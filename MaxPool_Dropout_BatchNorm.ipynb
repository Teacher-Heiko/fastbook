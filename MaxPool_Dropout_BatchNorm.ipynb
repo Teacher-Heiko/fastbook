{
  "nbformat": 4,
  "nbformat_minor": 0,
  "metadata": {
    "colab": {
      "provenance": [],
      "gpuType": "V100",
      "machine_shape": "hm",
      "include_colab_link": true
    },
    "kernelspec": {
      "name": "python3",
      "display_name": "Python 3"
    },
    "language_info": {
      "name": "python"
    },
    "accelerator": "GPU"
  },
  "cells": [
    {
      "cell_type": "markdown",
      "metadata": {
        "id": "view-in-github",
        "colab_type": "text"
      },
      "source": [
        "<a href=\"https://colab.research.google.com/github/Teacher-Heiko/fastbook/blob/master/MaxPool_Dropout_BatchNorm.ipynb\" target=\"_parent\"><img src=\"https://colab.research.google.com/assets/colab-badge.svg\" alt=\"Open In Colab\"/></a>"
      ]
    },
    {
      "cell_type": "code",
      "execution_count": 1,
      "metadata": {
        "id": "sTIiu7LmY9N8"
      },
      "outputs": [],
      "source": [
        "import torch\n",
        "import torch.nn as nn\n",
        "import matplotlib.pyplot as plt\n",
        "from torchvision import datasets, transforms\n",
        "from torch.utils.data import DataLoader\n",
        "import numpy as np\n",
        "\n"
      ]
    },
    {
      "cell_type": "code",
      "source": [
        "# # Download and prepare the dataset\n",
        "# transform = transforms.Compose([\n",
        "#     transforms.ToTensor(),\n",
        "# ])\n",
        "\n",
        "# dataset = datasets.MNIST(root='./data', train=True, download=True, transform=transform)\n",
        "# dataloader = DataLoader(dataset, batch_size=32, shuffle=True)\n"
      ],
      "metadata": {
        "id": "aARVdCcyZ-df"
      },
      "execution_count": 2,
      "outputs": []
    },
    {
      "cell_type": "code",
      "source": [
        "from fastai.vision.all import *\n",
        "\n",
        "path = untar_data(URLs.MNIST)"
      ],
      "metadata": {
        "id": "WCUM_S1JgSLT",
        "outputId": "eff36cb3-f5ee-4476-c04a-699dcfdf6d5f",
        "colab": {
          "base_uri": "https://localhost:8080/",
          "height": 37
        }
      },
      "execution_count": 3,
      "outputs": [
        {
          "output_type": "display_data",
          "data": {
            "text/plain": [
              "<IPython.core.display.HTML object>"
            ],
            "text/html": [
              "\n",
              "<style>\n",
              "    /* Turns off some styling */\n",
              "    progress {\n",
              "        /* gets rid of default border in Firefox and Opera. */\n",
              "        border: none;\n",
              "        /* Needs to be in here for Safari polyfill so background images work as expected. */\n",
              "        background-size: auto;\n",
              "    }\n",
              "    progress:not([value]), progress:not([value])::-webkit-progress-bar {\n",
              "        background: repeating-linear-gradient(45deg, #7e7e7e, #7e7e7e 10px, #5c5c5c 10px, #5c5c5c 20px);\n",
              "    }\n",
              "    .progress-bar-interrupted, .progress-bar-interrupted::-webkit-progress-bar {\n",
              "        background: #F44336;\n",
              "    }\n",
              "</style>\n"
            ]
          },
          "metadata": {}
        },
        {
          "output_type": "display_data",
          "data": {
            "text/plain": [
              "<IPython.core.display.HTML object>"
            ],
            "text/html": [
              "\n",
              "    <div>\n",
              "      <progress value='15687680' class='' max='15683414' style='width:300px; height:20px; vertical-align: middle;'></progress>\n",
              "      100.03% [15687680/15683414 00:00&lt;00:00]\n",
              "    </div>\n",
              "    "
            ]
          },
          "metadata": {}
        }
      ]
    },
    {
      "cell_type": "code",
      "source": [
        "Path.BASE_PATH = path\n",
        "\n",
        "def get_dls(bs=512):\n",
        "    return DataBlock(\n",
        "        blocks=(ImageBlock(cls=PILImageBW), CategoryBlock),\n",
        "        get_items=get_image_files,\n",
        "        splitter=GrandparentSplitter('training','testing'),\n",
        "        get_y=parent_label,\n",
        "        batch_tfms=Normalize()\n",
        "    ).dataloaders(path, bs=bs)\n",
        "\n",
        "dls = get_dls()"
      ],
      "metadata": {
        "id": "9FUnGkiHiHkk"
      },
      "execution_count": 4,
      "outputs": []
    },
    {
      "cell_type": "code",
      "source": [
        "dls.show_batch(max_n=9, figsize=(4,4))"
      ],
      "metadata": {
        "colab": {
          "base_uri": "https://localhost:8080/",
          "height": 367
        },
        "id": "mfFf-KPliYOM",
        "outputId": "e575c3bb-41a5-4535-a657-42e9d8cb90b2"
      },
      "execution_count": 5,
      "outputs": [
        {
          "output_type": "display_data",
          "data": {
            "text/plain": [
              "<Figure size 400x400 with 9 Axes>"
            ],
            "image/png": "[encoded data removed]"
          },
          "metadata": {}
        }
      ]
    },
    {
      "cell_type": "code",
      "source": [
        "def simple_cnn():\n",
        "   return nn.Sequential(\n",
        "      nn.Conv2d(1, 4, kernel_size=(3,3), stride=1, padding=1), # Output Size: [4, 28, 28] (4 channels, 28x28 pixels)\n",
        "      nn.ReLU(),\n",
        "\n",
        "      nn.Conv2d(4, 8, kernel_size=(3,3), stride=1, padding=1), # [8, 28, 28] (8 channels, 28x28 pixels)\n",
        "      nn.ReLU(),\n",
        "\n",
        "      nn.Flatten(),\n",
        "      nn.Linear(8*28*28, 64),\n",
        "      nn.Linear(64, 10)\n",
        "   )"
      ],
      "metadata": {
        "id": "JfEkIzw6aQMq"
      },
      "execution_count": 6,
      "outputs": []
    },
    {
      "cell_type": "code",
      "source": [
        "simple_cnn()"
      ],
      "metadata": {
        "colab": {
          "base_uri": "https://localhost:8080/"
        },
        "id": "bOrdLdO_aR_R",
        "outputId": "1941f22d-d52c-4b8f-b466-228788aa04af"
      },
      "execution_count": 7,
      "outputs": [
        {
          "output_type": "execute_result",
          "data": {
            "text/plain": [
              "Sequential(\n",
              "  (0): Conv2d(1, 4, kernel_size=(3, 3), stride=(1, 1), padding=(1, 1))\n",
              "  (1): ReLU()\n",
              "  (2): Conv2d(4, 8, kernel_size=(3, 3), stride=(1, 1), padding=(1, 1))\n",
              "  (3): ReLU()\n",
              "  (4): Flatten(start_dim=1, end_dim=-1)\n",
              "  (5): Linear(in_features=6272, out_features=64, bias=True)\n",
              "  (6): Linear(in_features=64, out_features=10, bias=True)\n",
              ")"
            ]
          },
          "metadata": {},
          "execution_count": 7
        }
      ]
    },
    {
      "cell_type": "code",
      "source": [
        "def fit(epochs=1):\n",
        "    learn = Learner(dls, simple_cnn(), loss_func=F.cross_entropy,\n",
        "                    metrics=accuracy, cbs=ActivationStats(with_hist=True))\n",
        "    print(learn.summary())\n",
        "    learn.fit(epochs, 0.6)\n",
        "    return learn"
      ],
      "metadata": {
        "id": "XNi45TMIh22T"
      },
      "execution_count": 8,
      "outputs": []
    },
    {
      "cell_type": "code",
      "source": [
        "#  learn = Learner(dls, simple_cnn(), loss_func=F.cross_entropy,\n",
        "                    # metrics=accuracy, cbs=ActivationStats(with_hist=True))"
      ],
      "metadata": {
        "id": "8h3PNpnwn9OH"
      },
      "execution_count": 9,
      "outputs": []
    },
    {
      "cell_type": "code",
      "source": [
        "# learn.lr_find()"
      ],
      "metadata": {
        "id": "lTeTC_RQnums"
      },
      "execution_count": 10,
      "outputs": []
    },
    {
      "cell_type": "code",
      "source": [
        "# learn = fit()"
      ],
      "metadata": {
        "id": "pU_SEIR3ev9e"
      },
      "execution_count": 11,
      "outputs": []
    },
    {
      "cell_type": "markdown",
      "source": [
        "<figure>\n",
        "<!-- <img src=\"./images/2-convmodel-2.png\" width=\"250\" alt=\"Diagram of a convolutional model.\"> -->\n",
        "<img src=\"https://storage.googleapis.com/kaggle-media/learn/images/Vko6nCK.png\" width=\"250\" alt=\"Diagram of a convolutional model.\">\n",
        "</figure>"
      ],
      "metadata": {
        "id": "npXaDQW257sa"
      }
    },
    {
      "cell_type": "code",
      "source": [
        "def simple_cnn_max():\n",
        "   return nn.Sequential(\n",
        "      nn.Conv2d(1, 32, kernel_size=(3,3), stride=1, padding=1), # Output Size: [32, 28, 28]\n",
        "      nn.ReLU(),\n",
        "      nn.MaxPool2d(2),                                         # Output Size: [32, 14, 14]\n",
        "\n",
        "      nn.Conv2d(32, 64, kernel_size=(3,3), stride=1, padding=1), # [64, 14, 14]\n",
        "      nn.ReLU(),\n",
        "      nn.MaxPool2d(2),                                          # [64, 7, 7]\n",
        "\n",
        "      nn.Conv2d(64, 128, kernel_size=(3,3), stride=1, padding=1), # [128, 7, 7]\n",
        "      nn.ReLU(),\n",
        "      nn.Conv2d(128, 512, kernel_size=(3,3), stride=1, padding=1), # [512, 7, 7]\n",
        "      nn.ReLU(),\n",
        "      nn.Conv2d(512, 1024, kernel_size=(3,3), stride=1, padding=1), # [1024, 7, 7]\n",
        "      nn.ReLU(),\n",
        "      nn.MaxPool2d(2),                                          # [1024, 3, 3]\n",
        "\n",
        "\n",
        "      nn.Flatten(),\n",
        "      nn.Linear(1024 * 3 * 3, 512),   # Input size should match the number of flattened features\n",
        "      nn.Dropout(0.2),\n",
        "      nn.Linear(512, 64),\n",
        "      nn.Linear(64, 10)\n",
        "\n",
        "   )\n",
        "\n",
        "simple_cnn_max()"
      ],
      "metadata": {
        "colab": {
          "base_uri": "https://localhost:8080/"
        },
        "id": "_lcRW5eZewRx",
        "outputId": "59e59ea9-a327-41e1-f1d7-75a969fee944"
      },
      "execution_count": 12,
      "outputs": [
        {
          "output_type": "execute_result",
          "data": {
            "text/plain": [
              "Sequential(\n",
              "  (0): Conv2d(1, 32, kernel_size=(3, 3), stride=(1, 1), padding=(1, 1))\n",
              "  (1): ReLU()\n",
              "  (2): MaxPool2d(kernel_size=2, stride=2, padding=0, dilation=1, ceil_mode=False)\n",
              "  (3): Conv2d(32, 64, kernel_size=(3, 3), stride=(1, 1), padding=(1, 1))\n",
              "  (4): ReLU()\n",
              "  (5): MaxPool2d(kernel_size=2, stride=2, padding=0, dilation=1, ceil_mode=False)\n",
              "  (6): Conv2d(64, 128, kernel_size=(3, 3), stride=(1, 1), padding=(1, 1))\n",
              "  (7): ReLU()\n",
              "  (8): Conv2d(128, 512, kernel_size=(3, 3), stride=(1, 1), padding=(1, 1))\n",
              "  (9): ReLU()\n",
              "  (10): Conv2d(512, 1024, kernel_size=(3, 3), stride=(1, 1), padding=(1, 1))\n",
              "  (11): ReLU()\n",
              "  (12): MaxPool2d(kernel_size=2, stride=2, padding=0, dilation=1, ceil_mode=False)\n",
              "  (13): Flatten(start_dim=1, end_dim=-1)\n",
              "  (14): Linear(in_features=9216, out_features=512, bias=True)\n",
              "  (15): Dropout(p=0.2, inplace=False)\n",
              "  (16): Linear(in_features=512, out_features=64, bias=True)\n",
              "  (17): Linear(in_features=64, out_features=10, bias=True)\n",
              ")"
            ]
          },
          "metadata": {},
          "execution_count": 12
        }
      ]
    },
    {
      "cell_type": "code",
      "source": [
        "# def fit_max(epochs=1, lr=0.06):\n",
        "#     learner = Learner(dls, simple_cnn_max(), loss_func=F.cross_entropy,\n",
        "#                     metrics=accuracy, cbs=ActivationStats(with_hist=True))\n",
        "#     learner.fit_one_cycle(epochs, lr)\n",
        "#     return learner"
      ],
      "metadata": {
        "id": "dp5SqKiPiqWp"
      },
      "execution_count": 13,
      "outputs": []
    },
    {
      "cell_type": "code",
      "source": [
        "# learn_max = fit_max()"
      ],
      "metadata": {
        "id": "ywROH5aCe0Kr"
      },
      "execution_count": 14,
      "outputs": []
    },
    {
      "cell_type": "code",
      "source": [
        "# learn_max.activation_stats.plot_layer_stats(-1)"
      ],
      "metadata": {
        "id": "TUGOSQmYlZ4k"
      },
      "execution_count": 15,
      "outputs": []
    },
    {
      "cell_type": "code",
      "source": [],
      "metadata": {
        "id": "-UEscbpqyD7T"
      },
      "execution_count": 15,
      "outputs": []
    },
    {
      "cell_type": "code",
      "source": [
        "def simple_cnn_batchnorm():\n",
        "    return nn.Sequential(\n",
        "        nn.Conv2d(1, 8, kernel_size=(3, 3), stride=2, padding=1),  # Output Size: [8, 14, 14]\n",
        "        nn.ReLU(),\n",
        "        nn.BatchNorm2d(8),\n",
        "        # nn.Dropout(0.2),\n",
        "\n",
        "        nn.Conv2d(8, 64, kernel_size=(3, 3), stride=2, padding=1),  # Output Size: [64, 7, 7]\n",
        "        nn.ReLU(),\n",
        "        nn.BatchNorm2d(64),\n",
        "        nn.Dropout(0.3),\n",
        "\n",
        "        nn.Conv2d(64, 128, kernel_size=(3, 3), stride=2, padding=1),  # Output Size: [128, 5, 5]\n",
        "        nn.ReLU(),\n",
        "        nn.BatchNorm2d(128),\n",
        "        nn.Dropout(0.4),\n",
        "\n",
        "        nn.Conv2d(128, 256, kernel_size=(3, 3), stride=2, padding=1),  # Output Size: [256, 2, 2]\n",
        "        nn.ReLU(),\n",
        "        nn.BatchNorm2d(256),\n",
        "        nn.Dropout(0.4),\n",
        "\n",
        "        nn.Conv2d(256, 512, kernel_size=(3, 3), stride=2, padding=1),  # Output Size: [512, 1, 1]\n",
        "        nn.ReLU(),\n",
        "        nn.BatchNorm2d(512),\n",
        "        nn.Dropout(0.3),\n",
        "\n",
        "        nn.Flatten(),\n",
        "\n",
        "        nn.Linear(512 * 1 * 1, 256),  # Input size should match the number of flattened features\n",
        "        nn.Dropout(0.5),\n",
        "\n",
        "        nn.Linear(256, 64),\n",
        "        nn.Dropout(0.5),\n",
        "\n",
        "        nn.Linear(64, 10)\n",
        "    )\n",
        "\n",
        "# simple_cnn_batchnorm()"
      ],
      "metadata": {
        "id": "rf18Tpsq1mkU"
      },
      "execution_count": 16,
      "outputs": []
    },
    {
      "cell_type": "code",
      "source": [
        "# def fit_batchnorm(epochs=1, lr=0.06):\n",
        "#     learner = Learner(dls, simple_cnn_batchnorm(), loss_func=F.cross_entropy,\n",
        "#                     metrics=accuracy, cbs=ActivationStats(with_hist=True))\n",
        "#     print(learner.summary())\n",
        "#     learner.fit_one_cycle(epochs, lr)\n",
        "#     return learner"
      ],
      "metadata": {
        "id": "seKvrNw7KUgQ"
      },
      "execution_count": 17,
      "outputs": []
    },
    {
      "cell_type": "code",
      "source": [
        "learner = Learner(dls, simple_cnn_batchnorm(), loss_func=F.cross_entropy,\n",
        "                    metrics=accuracy, cbs=ActivationStats(with_hist=True))"
      ],
      "metadata": {
        "id": "XwjRirebQwz3"
      },
      "execution_count": 18,
      "outputs": []
    },
    {
      "cell_type": "code",
      "source": [
        "learner.summary()\n"
      ],
      "metadata": {
        "id": "Wl_rYpjyQy_p",
        "outputId": "f48cc88e-d6cf-4cf7-cf38-3b2355da762c",
        "colab": {
          "base_uri": "https://localhost:8080/",
          "height": 1000
        }
      },
      "execution_count": 19,
      "outputs": [
        {
          "output_type": "stream",
          "name": "stderr",
          "text": [
            "/usr/local/lib/python3.10/dist-packages/fastai/callback/core.py:69: UserWarning: You are shadowing an attribute (modules) that exists in the learner. Use `self.learn.modules` to avoid this\n",
            "  warn(f\"You are shadowing an attribute ({name}) that exists in the learner. Use `self.learn.{name}` to avoid this\")\n"
          ]
        },
        {
          "output_type": "display_data",
          "data": {
            "text/plain": [
              "<IPython.core.display.HTML object>"
            ],
            "text/html": [
              "\n",
              "<style>\n",
              "    /* Turns off some styling */\n",
              "    progress {\n",
              "        /* gets rid of default border in Firefox and Opera. */\n",
              "        border: none;\n",
              "        /* Needs to be in here for Safari polyfill so background images work as expected. */\n",
              "        background-size: auto;\n",
              "    }\n",
              "    progress:not([value]), progress:not([value])::-webkit-progress-bar {\n",
              "        background: repeating-linear-gradient(45deg, #7e7e7e, #7e7e7e 10px, #5c5c5c 10px, #5c5c5c 20px);\n",
              "    }\n",
              "    .progress-bar-interrupted, .progress-bar-interrupted::-webkit-progress-bar {\n",
              "        background: #F44336;\n",
              "    }\n",
              "</style>\n"
            ]
          },
          "metadata": {}
        },
        {
          "output_type": "display_data",
          "data": {
            "text/plain": [
              "<IPython.core.display.HTML object>"
            ],
            "text/html": []
          },
          "metadata": {}
        },
        {
          "output_type": "execute_result",
          "data": {
            "text/plain": [
              "Sequential (Input shape: 512 x 1 x 28 x 28)\n",
              "============================================================================\n",
              "Layer (type)         Output Shape         Param #    Trainable \n",
              "============================================================================\n",
              "                     512 x 8 x 14 x 14   \n",
              "Conv2d                                    80         True      \n",
              "ReLU                                                           \n",
              "BatchNorm2d                               16         True      \n",
              "____________________________________________________________________________\n",
              "                     512 x 64 x 7 x 7    \n",
              "Conv2d                                    4672       True      \n",
              "ReLU                                                           \n",
              "BatchNorm2d                               128        True      \n",
              "Dropout                                                        \n",
              "____________________________________________________________________________\n",
              "                     512 x 128 x 4 x 4   \n",
              "Conv2d                                    73856      True      \n",
              "ReLU                                                           \n",
              "BatchNorm2d                               256        True      \n",
              "Dropout                                                        \n",
              "____________________________________________________________________________\n",
              "                     512 x 256 x 2 x 2   \n",
              "Conv2d                                    295168     True      \n",
              "ReLU                                                           \n",
              "BatchNorm2d                               512        True      \n",
              "Dropout                                                        \n",
              "____________________________________________________________________________\n",
              "                     512 x 512 x 1 x 1   \n",
              "Conv2d                                    1180160    True      \n",
              "ReLU                                                           \n",
              "BatchNorm2d                               1024       True      \n",
              "Dropout                                                        \n",
              "____________________________________________________________________________\n",
              "                     512 x 512           \n",
              "Flatten                                                        \n",
              "____________________________________________________________________________\n",
              "                     512 x 256           \n",
              "Linear                                    131328     True      \n",
              "Dropout                                                        \n",
              "____________________________________________________________________________\n",
              "                     512 x 64            \n",
              "Linear                                    16448      True      \n",
              "____________________________________________________________________________\n",
              "                     512 x 10            \n",
              "Linear                                    650        True      \n",
              "____________________________________________________________________________\n",
              "\n",
              "Total params: 1,704,298\n",
              "Total trainable params: 1,704,298\n",
              "Total non-trainable params: 0\n",
              "\n",
              "Optimizer used: <function Adam at 0x7ee89ada1900>\n",
              "Loss function: <function cross_entropy at 0x7ee96019c670>\n",
              "\n",
              "Callbacks:\n",
              "  - ActivationStats\n",
              "  - TrainEvalCallback\n",
              "  - CastToTensor\n",
              "  - Recorder\n",
              "  - ProgressCallback"
            ],
            "application/vnd.google.colaboratory.intrinsic+json": {
              "type": "string"
            }
          },
          "metadata": {},
          "execution_count": 19
        }
      ]
    },
    {
      "cell_type": "code",
      "source": [
        "learner.model"
      ],
      "metadata": {
        "id": "oTrKcoNFQ-S6",
        "outputId": "7da3cb81-80e4-4b75-faab-1fe9c53c2150",
        "colab": {
          "base_uri": "https://localhost:8080/"
        }
      },
      "execution_count": 20,
      "outputs": [
        {
          "output_type": "execute_result",
          "data": {
            "text/plain": [
              "Sequential(\n",
              "  (0): Conv2d(1, 8, kernel_size=(3, 3), stride=(2, 2), padding=(1, 1))\n",
              "  (1): ReLU()\n",
              "  (2): BatchNorm2d(8, eps=1e-05, momentum=0.1, affine=True, track_running_stats=True)\n",
              "  (3): Conv2d(8, 64, kernel_size=(3, 3), stride=(2, 2), padding=(1, 1))\n",
              "  (4): ReLU()\n",
              "  (5): BatchNorm2d(64, eps=1e-05, momentum=0.1, affine=True, track_running_stats=True)\n",
              "  (6): Dropout(p=0.3, inplace=False)\n",
              "  (7): Conv2d(64, 128, kernel_size=(3, 3), stride=(2, 2), padding=(1, 1))\n",
              "  (8): ReLU()\n",
              "  (9): BatchNorm2d(128, eps=1e-05, momentum=0.1, affine=True, track_running_stats=True)\n",
              "  (10): Dropout(p=0.4, inplace=False)\n",
              "  (11): Conv2d(128, 256, kernel_size=(3, 3), stride=(2, 2), padding=(1, 1))\n",
              "  (12): ReLU()\n",
              "  (13): BatchNorm2d(256, eps=1e-05, momentum=0.1, affine=True, track_running_stats=True)\n",
              "  (14): Dropout(p=0.4, inplace=False)\n",
              "  (15): Conv2d(256, 512, kernel_size=(3, 3), stride=(2, 2), padding=(1, 1))\n",
              "  (16): ReLU()\n",
              "  (17): BatchNorm2d(512, eps=1e-05, momentum=0.1, affine=True, track_running_stats=True)\n",
              "  (18): Dropout(p=0.3, inplace=False)\n",
              "  (19): Flatten(start_dim=1, end_dim=-1)\n",
              "  (20): Linear(in_features=512, out_features=256, bias=True)\n",
              "  (21): Dropout(p=0.3, inplace=False)\n",
              "  (22): Linear(in_features=256, out_features=64, bias=True)\n",
              "  (23): Linear(in_features=64, out_features=10, bias=True)\n",
              ")"
            ]
          },
          "metadata": {},
          "execution_count": 20
        }
      ]
    },
    {
      "cell_type": "code",
      "source": [
        "learner.model.cuda()"
      ],
      "metadata": {
        "id": "j37rdRFCRIsI",
        "colab": {
          "base_uri": "https://localhost:8080/"
        },
        "outputId": "040847c4-d6b8-4ed8-a123-0bc938c148de"
      },
      "execution_count": 21,
      "outputs": [
        {
          "output_type": "execute_result",
          "data": {
            "text/plain": [
              "Sequential(\n",
              "  (0): Conv2d(1, 8, kernel_size=(3, 3), stride=(2, 2), padding=(1, 1))\n",
              "  (1): ReLU()\n",
              "  (2): BatchNorm2d(8, eps=1e-05, momentum=0.1, affine=True, track_running_stats=True)\n",
              "  (3): Conv2d(8, 64, kernel_size=(3, 3), stride=(2, 2), padding=(1, 1))\n",
              "  (4): ReLU()\n",
              "  (5): BatchNorm2d(64, eps=1e-05, momentum=0.1, affine=True, track_running_stats=True)\n",
              "  (6): Dropout(p=0.3, inplace=False)\n",
              "  (7): Conv2d(64, 128, kernel_size=(3, 3), stride=(2, 2), padding=(1, 1))\n",
              "  (8): ReLU()\n",
              "  (9): BatchNorm2d(128, eps=1e-05, momentum=0.1, affine=True, track_running_stats=True)\n",
              "  (10): Dropout(p=0.4, inplace=False)\n",
              "  (11): Conv2d(128, 256, kernel_size=(3, 3), stride=(2, 2), padding=(1, 1))\n",
              "  (12): ReLU()\n",
              "  (13): BatchNorm2d(256, eps=1e-05, momentum=0.1, affine=True, track_running_stats=True)\n",
              "  (14): Dropout(p=0.4, inplace=False)\n",
              "  (15): Conv2d(256, 512, kernel_size=(3, 3), stride=(2, 2), padding=(1, 1))\n",
              "  (16): ReLU()\n",
              "  (17): BatchNorm2d(512, eps=1e-05, momentum=0.1, affine=True, track_running_stats=True)\n",
              "  (18): Dropout(p=0.3, inplace=False)\n",
              "  (19): Flatten(start_dim=1, end_dim=-1)\n",
              "  (20): Linear(in_features=512, out_features=256, bias=True)\n",
              "  (21): Dropout(p=0.3, inplace=False)\n",
              "  (22): Linear(in_features=256, out_features=64, bias=True)\n",
              "  (23): Linear(in_features=64, out_features=10, bias=True)\n",
              ")"
            ]
          },
          "metadata": {},
          "execution_count": 21
        }
      ]
    },
    {
      "cell_type": "code",
      "source": [
        "learner.fit_one_cycle(n_epoch=15)"
      ],
      "metadata": {
        "id": "k5BHn1tfRRst",
        "outputId": "a325adcd-8c6d-4567-a137-edfaaec3be19",
        "colab": {
          "base_uri": "https://localhost:8080/",
          "height": 520
        }
      },
      "execution_count": 22,
      "outputs": [
        {
          "output_type": "display_data",
          "data": {
            "text/plain": [
              "<IPython.core.display.HTML object>"
            ],
            "text/html": [
              "\n",
              "<style>\n",
              "    /* Turns off some styling */\n",
              "    progress {\n",
              "        /* gets rid of default border in Firefox and Opera. */\n",
              "        border: none;\n",
              "        /* Needs to be in here for Safari polyfill so background images work as expected. */\n",
              "        background-size: auto;\n",
              "    }\n",
              "    progress:not([value]), progress:not([value])::-webkit-progress-bar {\n",
              "        background: repeating-linear-gradient(45deg, #7e7e7e, #7e7e7e 10px, #5c5c5c 10px, #5c5c5c 20px);\n",
              "    }\n",
              "    .progress-bar-interrupted, .progress-bar-interrupted::-webkit-progress-bar {\n",
              "        background: #F44336;\n",
              "    }\n",
              "</style>\n"
            ]
          },
          "metadata": {}
        },
        {
          "output_type": "display_data",
          "data": {
            "text/plain": [
              "<IPython.core.display.HTML object>"
            ],
            "text/html": [
              "<table border=\"1\" class=\"dataframe\">\n",
              "  <thead>\n",
              "    <tr style=\"text-align: left;\">\n",
              "      <th>epoch</th>\n",
              "      <th>train_loss</th>\n",
              "      <th>valid_loss</th>\n",
              "      <th>accuracy</th>\n",
              "      <th>time</th>\n",
              "    </tr>\n",
              "  </thead>\n",
              "  <tbody>\n",
              "    <tr>\n",
              "      <td>0</td>\n",
              "      <td>1.036499</td>\n",
              "      <td>0.330408</td>\n",
              "      <td>0.894500</td>\n",
              "      <td>00:23</td>\n",
              "    </tr>\n",
              "    <tr>\n",
              "      <td>1</td>\n",
              "      <td>0.297984</td>\n",
              "      <td>0.095776</td>\n",
              "      <td>0.969100</td>\n",
              "      <td>00:23</td>\n",
              "    </tr>\n",
              "    <tr>\n",
              "      <td>2</td>\n",
              "      <td>0.148413</td>\n",
              "      <td>0.062703</td>\n",
              "      <td>0.979500</td>\n",
              "      <td>00:23</td>\n",
              "    </tr>\n",
              "    <tr>\n",
              "      <td>3</td>\n",
              "      <td>0.108590</td>\n",
              "      <td>0.046709</td>\n",
              "      <td>0.984300</td>\n",
              "      <td>00:24</td>\n",
              "    </tr>\n",
              "    <tr>\n",
              "      <td>4</td>\n",
              "      <td>0.081299</td>\n",
              "      <td>0.044280</td>\n",
              "      <td>0.985600</td>\n",
              "      <td>00:23</td>\n",
              "    </tr>\n",
              "    <tr>\n",
              "      <td>5</td>\n",
              "      <td>0.072279</td>\n",
              "      <td>0.040165</td>\n",
              "      <td>0.985900</td>\n",
              "      <td>00:23</td>\n",
              "    </tr>\n",
              "    <tr>\n",
              "      <td>6</td>\n",
              "      <td>0.060903</td>\n",
              "      <td>0.041109</td>\n",
              "      <td>0.986800</td>\n",
              "      <td>00:23</td>\n",
              "    </tr>\n",
              "    <tr>\n",
              "      <td>7</td>\n",
              "      <td>0.054652</td>\n",
              "      <td>0.030266</td>\n",
              "      <td>0.989600</td>\n",
              "      <td>00:24</td>\n",
              "    </tr>\n",
              "    <tr>\n",
              "      <td>8</td>\n",
              "      <td>0.048313</td>\n",
              "      <td>0.027061</td>\n",
              "      <td>0.990700</td>\n",
              "      <td>00:25</td>\n",
              "    </tr>\n",
              "    <tr>\n",
              "      <td>9</td>\n",
              "      <td>0.040961</td>\n",
              "      <td>0.026270</td>\n",
              "      <td>0.991000</td>\n",
              "      <td>00:25</td>\n",
              "    </tr>\n",
              "    <tr>\n",
              "      <td>10</td>\n",
              "      <td>0.034664</td>\n",
              "      <td>0.023936</td>\n",
              "      <td>0.992300</td>\n",
              "      <td>00:25</td>\n",
              "    </tr>\n",
              "    <tr>\n",
              "      <td>11</td>\n",
              "      <td>0.032334</td>\n",
              "      <td>0.024730</td>\n",
              "      <td>0.992100</td>\n",
              "      <td>00:27</td>\n",
              "    </tr>\n",
              "    <tr>\n",
              "      <td>12</td>\n",
              "      <td>0.027224</td>\n",
              "      <td>0.023721</td>\n",
              "      <td>0.991900</td>\n",
              "      <td>00:27</td>\n",
              "    </tr>\n",
              "    <tr>\n",
              "      <td>13</td>\n",
              "      <td>0.025762</td>\n",
              "      <td>0.023561</td>\n",
              "      <td>0.992600</td>\n",
              "      <td>00:27</td>\n",
              "    </tr>\n",
              "    <tr>\n",
              "      <td>14</td>\n",
              "      <td>0.023870</td>\n",
              "      <td>0.023845</td>\n",
              "      <td>0.992600</td>\n",
              "      <td>00:27</td>\n",
              "    </tr>\n",
              "  </tbody>\n",
              "</table>"
            ]
          },
          "metadata": {}
        }
      ]
    },
    {
      "cell_type": "code",
      "source": [
        "# learn_batchnorm = fit_batchnorm()"
      ],
      "metadata": {
        "id": "O1CLJ9FpKHFH"
      },
      "execution_count": 23,
      "outputs": []
    },
    {
      "cell_type": "code",
      "source": [
        "learner.activation_stats.plot_layer_stats(-2)"
      ],
      "metadata": {
        "id": "a9_Cu2akLuog",
        "outputId": "4b3627af-4d7d-4a80-e004-5e335b73d223",
        "colab": {
          "base_uri": "https://localhost:8080/",
          "height": 243
        }
      },
      "execution_count": 24,
      "outputs": [
        {
          "output_type": "display_data",
          "data": {
            "text/plain": [
              "<Figure size 1200x300 with 3 Axes>"
            ],
            "image/png": "[encoded data removed]"
          },
          "metadata": {}
        }
      ]
    }
  ]
}