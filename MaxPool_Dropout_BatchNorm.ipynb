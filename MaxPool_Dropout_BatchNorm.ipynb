{
  "nbformat": 4,
  "nbformat_minor": 0,
  "metadata": {
    "colab": {
      "provenance": [],
      "gpuType": "V100",
      "machine_shape": "hm",
      "include_colab_link": true
    },
    "kernelspec": {
      "name": "python3",
      "display_name": "Python 3"
    },
    "language_info": {
      "name": "python"
    },
    "accelerator": "GPU"
  },
  "cells": [
    {
      "cell_type": "markdown",
      "metadata": {
        "id": "view-in-github",
        "colab_type": "text"
      },
      "source": [
        "<a href=\"https://colab.research.google.com/github/Teacher-Heiko/fastbook/blob/master/MaxPool_Dropout_BatchNorm.ipynb\" target=\"_parent\"><img src=\"https://colab.research.google.com/assets/colab-badge.svg\" alt=\"Open In Colab\"/></a>"
      ]
    },
    {
      "cell_type": "code",
      "execution_count": 1,
      "metadata": {
        "id": "sTIiu7LmY9N8"
      },
      "outputs": [],
      "source": [
        "import torch\n",
        "import torch.nn as nn\n",
        "import matplotlib.pyplot as plt\n",
        "from torchvision import datasets, transforms\n",
        "from torch.utils.data import DataLoader\n",
        "import numpy as np\n",
        "\n"
      ]
    },
    {
      "cell_type": "code",
      "source": [
        "# # Download and prepare the dataset\n",
        "# transform = transforms.Compose([\n",
        "#     transforms.ToTensor(),\n",
        "# ])\n",
        "\n",
        "# dataset = datasets.MNIST(root='./data', train=True, download=True, transform=transform)\n",
        "# dataloader = DataLoader(dataset, batch_size=32, shuffle=True)\n"
      ],
      "metadata": {
        "id": "aARVdCcyZ-df"
      },
      "execution_count": 2,
      "outputs": []
    },
    {
      "cell_type": "code",
      "source": [
        "from fastai.vision.all import *\n",
        "\n",
        "path = untar_data(URLs.MNIST)"
      ],
      "metadata": {
        "id": "WCUM_S1JgSLT",
        "outputId": "f2ef56dc-958b-4979-fee1-cb5479a9182e",
        "colab": {
          "base_uri": "https://localhost:8080/",
          "height": 37
        }
      },
      "execution_count": 3,
      "outputs": [
        {
          "output_type": "display_data",
          "data": {
            "text/plain": [
              "<IPython.core.display.HTML object>"
            ],
            "text/html": [
              "\n",
              "<style>\n",
              "    /* Turns off some styling */\n",
              "    progress {\n",
              "        /* gets rid of default border in Firefox and Opera. */\n",
              "        border: none;\n",
              "        /* Needs to be in here for Safari polyfill so background images work as expected. */\n",
              "        background-size: auto;\n",
              "    }\n",
              "    progress:not([value]), progress:not([value])::-webkit-progress-bar {\n",
              "        background: repeating-linear-gradient(45deg, #7e7e7e, #7e7e7e 10px, #5c5c5c 10px, #5c5c5c 20px);\n",
              "    }\n",
              "    .progress-bar-interrupted, .progress-bar-interrupted::-webkit-progress-bar {\n",
              "        background: #F44336;\n",
              "    }\n",
              "</style>\n"
            ]
          },
          "metadata": {}
        },
        {
          "output_type": "display_data",
          "data": {
            "text/plain": [
              "<IPython.core.display.HTML object>"
            ],
            "text/html": [
              "\n",
              "    <div>\n",
              "      <progress value='15687680' class='' max='15683414' style='width:300px; height:20px; vertical-align: middle;'></progress>\n",
              "      100.03% [15687680/15683414 00:00&lt;00:00]\n",
              "    </div>\n",
              "    "
            ]
          },
          "metadata": {}
        }
      ]
    },
    {
      "cell_type": "code",
      "source": [
        "Path.BASE_PATH = path\n",
        "\n",
        "def get_dls(bs=512):\n",
        "    return DataBlock(\n",
        "        blocks=(ImageBlock(cls=PILImageBW), CategoryBlock),\n",
        "        get_items=get_image_files,\n",
        "        splitter=GrandparentSplitter('training','testing'),\n",
        "        get_y=parent_label,\n",
        "        batch_tfms=Normalize()\n",
        "    ).dataloaders(path, bs=bs)\n",
        "\n",
        "dls = get_dls()"
      ],
      "metadata": {
        "id": "9FUnGkiHiHkk"
      },
      "execution_count": 4,
      "outputs": []
    },
    {
      "cell_type": "code",
      "source": [
        "dls.show_batch(max_n=9, figsize=(4,4))"
      ],
      "metadata": {
        "colab": {
          "base_uri": "https://localhost:8080/",
          "height": 367
        },
        "id": "mfFf-KPliYOM",
        "outputId": "50113fde-fe36-479f-d568-f67db6a42ab7"
      },
      "execution_count": 5,
      "outputs": [
        {
          "output_type": "display_data",
          "data": {
            "text/plain": [
              "<Figure size 400x400 with 9 Axes>"
            ],
            "image/png": "[encoded data removed]"
          },
          "metadata": {}
        }
      ]
    },
    {
      "cell_type": "code",
      "source": [
        "def simple_cnn():\n",
        "   return nn.Sequential(\n",
        "      nn.Conv2d(1, 4, kernel_size=(3,3), stride=1, padding=1), # Output Size: [4, 28, 28] (4 channels, 28x28 pixels)\n",
        "      nn.ReLU(),\n",
        "\n",
        "      nn.Conv2d(4, 8, kernel_size=(3,3), stride=1, padding=1), # [8, 28, 28] (8 channels, 28x28 pixels)\n",
        "      nn.ReLU(),\n",
        "\n",
        "      nn.Flatten(),\n",
        "      nn.Linear(8*28*28, 64),\n",
        "      nn.Linear(64, 10)\n",
        "   )"
      ],
      "metadata": {
        "id": "JfEkIzw6aQMq"
      },
      "execution_count": 6,
      "outputs": []
    },
    {
      "cell_type": "code",
      "source": [
        "simple_cnn()"
      ],
      "metadata": {
        "colab": {
          "base_uri": "https://localhost:8080/"
        },
        "id": "bOrdLdO_aR_R",
        "outputId": "a15631c8-24d6-4752-89c5-15f26bf79d31"
      },
      "execution_count": 7,
      "outputs": [
        {
          "output_type": "execute_result",
          "data": {
            "text/plain": [
              "Sequential(\n",
              "  (0): Conv2d(1, 4, kernel_size=(3, 3), stride=(1, 1), padding=(1, 1))\n",
              "  (1): ReLU()\n",
              "  (2): Conv2d(4, 8, kernel_size=(3, 3), stride=(1, 1), padding=(1, 1))\n",
              "  (3): ReLU()\n",
              "  (4): Flatten(start_dim=1, end_dim=-1)\n",
              "  (5): Linear(in_features=6272, out_features=64, bias=True)\n",
              "  (6): Linear(in_features=64, out_features=10, bias=True)\n",
              ")"
            ]
          },
          "metadata": {},
          "execution_count": 7
        }
      ]
    },
    {
      "cell_type": "code",
      "source": [
        "def fit(epochs=1):\n",
        "    learn = Learner(dls, simple_cnn(), loss_func=F.cross_entropy,\n",
        "                    metrics=accuracy, cbs=ActivationStats(with_hist=True))\n",
        "    print(learn.summary())\n",
        "    learn.fit(epochs, 0.6)\n",
        "    return learn"
      ],
      "metadata": {
        "id": "XNi45TMIh22T"
      },
      "execution_count": 8,
      "outputs": []
    },
    {
      "cell_type": "code",
      "source": [
        "#  learn = Learner(dls, simple_cnn(), loss_func=F.cross_entropy,\n",
        "                    # metrics=accuracy, cbs=ActivationStats(with_hist=True))"
      ],
      "metadata": {
        "id": "8h3PNpnwn9OH"
      },
      "execution_count": 9,
      "outputs": []
    },
    {
      "cell_type": "code",
      "source": [
        "# learn.lr_find()"
      ],
      "metadata": {
        "id": "lTeTC_RQnums"
      },
      "execution_count": 10,
      "outputs": []
    },
    {
      "cell_type": "code",
      "source": [
        "# learn = fit()"
      ],
      "metadata": {
        "id": "pU_SEIR3ev9e"
      },
      "execution_count": 11,
      "outputs": []
    },
    {
      "cell_type": "markdown",
      "source": [
        "<figure>\n",
        "<!-- <img src=\"./images/2-convmodel-2.png\" width=\"250\" alt=\"Diagram of a convolutional model.\"> -->\n",
        "<img src=\"https://storage.googleapis.com/kaggle-media/learn/images/Vko6nCK.png\" width=\"250\" alt=\"Diagram of a convolutional model.\">\n",
        "</figure>"
      ],
      "metadata": {
        "id": "npXaDQW257sa"
      }
    },
    {
      "cell_type": "code",
      "source": [
        "def simple_cnn_max():\n",
        "   return nn.Sequential(\n",
        "      nn.Conv2d(1, 32, kernel_size=(3,3), stride=1, padding=1), # Output Size: [32, 28, 28]\n",
        "      nn.ReLU(),\n",
        "      nn.MaxPool2d(2),                                         # Output Size: [32, 14, 14]\n",
        "\n",
        "      nn.Conv2d(32, 64, kernel_size=(3,3), stride=1, padding=1), # [64, 14, 14]\n",
        "      nn.ReLU(),\n",
        "      nn.MaxPool2d(2),                                          # [64, 7, 7]\n",
        "\n",
        "      nn.Conv2d(64, 128, kernel_size=(3,3), stride=1, padding=1), # [128, 7, 7]\n",
        "      nn.ReLU(),\n",
        "      nn.Conv2d(128, 512, kernel_size=(3,3), stride=1, padding=1), # [512, 7, 7]\n",
        "      nn.ReLU(),\n",
        "      nn.Conv2d(512, 1024, kernel_size=(3,3), stride=1, padding=1), # [1024, 7, 7]\n",
        "      nn.ReLU(),\n",
        "      nn.MaxPool2d(2),                                          # [1024, 3, 3]\n",
        "\n",
        "\n",
        "      nn.Flatten(),\n",
        "      nn.Linear(1024 * 3 * 3, 512),   # Input size should match the number of flattened features\n",
        "      nn.Dropout(0.2),\n",
        "      nn.Linear(512, 64),\n",
        "      nn.Linear(64, 10)\n",
        "\n",
        "   )\n",
        "\n",
        "simple_cnn_max()"
      ],
      "metadata": {
        "colab": {
          "base_uri": "https://localhost:8080/"
        },
        "id": "_lcRW5eZewRx",
        "outputId": "ad534025-40b4-4bb3-f199-37359d69626e"
      },
      "execution_count": 12,
      "outputs": [
        {
          "output_type": "execute_result",
          "data": {
            "text/plain": [
              "Sequential(\n",
              "  (0): Conv2d(1, 32, kernel_size=(3, 3), stride=(1, 1), padding=(1, 1))\n",
              "  (1): ReLU()\n",
              "  (2): MaxPool2d(kernel_size=2, stride=2, padding=0, dilation=1, ceil_mode=False)\n",
              "  (3): Conv2d(32, 64, kernel_size=(3, 3), stride=(1, 1), padding=(1, 1))\n",
              "  (4): ReLU()\n",
              "  (5): MaxPool2d(kernel_size=2, stride=2, padding=0, dilation=1, ceil_mode=False)\n",
              "  (6): Conv2d(64, 128, kernel_size=(3, 3), stride=(1, 1), padding=(1, 1))\n",
              "  (7): ReLU()\n",
              "  (8): Conv2d(128, 512, kernel_size=(3, 3), stride=(1, 1), padding=(1, 1))\n",
              "  (9): ReLU()\n",
              "  (10): Conv2d(512, 1024, kernel_size=(3, 3), stride=(1, 1), padding=(1, 1))\n",
              "  (11): ReLU()\n",
              "  (12): MaxPool2d(kernel_size=2, stride=2, padding=0, dilation=1, ceil_mode=False)\n",
              "  (13): Flatten(start_dim=1, end_dim=-1)\n",
              "  (14): Linear(in_features=9216, out_features=512, bias=True)\n",
              "  (15): Dropout(p=0.2, inplace=False)\n",
              "  (16): Linear(in_features=512, out_features=64, bias=True)\n",
              "  (17): Linear(in_features=64, out_features=10, bias=True)\n",
              ")"
            ]
          },
          "metadata": {},
          "execution_count": 12
        }
      ]
    },
    {
      "cell_type": "code",
      "source": [
        "# def fit_max(epochs=1, lr=0.06):\n",
        "#     learner = Learner(dls, simple_cnn_max(), loss_func=F.cross_entropy,\n",
        "#                     metrics=accuracy, cbs=ActivationStats(with_hist=True))\n",
        "#     learner.fit_one_cycle(epochs, lr)\n",
        "#     return learner"
      ],
      "metadata": {
        "id": "dp5SqKiPiqWp"
      },
      "execution_count": 13,
      "outputs": []
    },
    {
      "cell_type": "code",
      "source": [
        "# learn_max = fit_max()"
      ],
      "metadata": {
        "id": "ywROH5aCe0Kr"
      },
      "execution_count": 14,
      "outputs": []
    },
    {
      "cell_type": "code",
      "source": [
        "# learn_max.activation_stats.plot_layer_stats(-1)"
      ],
      "metadata": {
        "id": "TUGOSQmYlZ4k"
      },
      "execution_count": 15,
      "outputs": []
    },
    {
      "cell_type": "code",
      "source": [],
      "metadata": {
        "id": "-UEscbpqyD7T"
      },
      "execution_count": 15,
      "outputs": []
    },
    {
      "cell_type": "code",
      "source": [
        "def simple_cnn_batchnorm():\n",
        "    return nn.Sequential(\n",
        "        nn.Conv2d(1, 8, kernel_size=(3, 3), stride=2, padding=1),  # Output Size: [8, 14, 14]\n",
        "        nn.ReLU(),\n",
        "        nn.BatchNorm2d(8),\n",
        "        # nn.Dropout(0.2),\n",
        "\n",
        "        nn.Conv2d(8, 64, kernel_size=(3, 3), stride=2, padding=1),  # Output Size: [64, 7, 7]\n",
        "        nn.ReLU(),\n",
        "        nn.BatchNorm2d(64),\n",
        "        nn.Dropout(0.3),\n",
        "\n",
        "        nn.Conv2d(64, 128, kernel_size=(3, 3), stride=2, padding=1),  # Output Size: [128, 5, 5]\n",
        "        nn.ReLU(),\n",
        "        nn.BatchNorm2d(128),\n",
        "        nn.Dropout(0.4),\n",
        "\n",
        "        nn.Conv2d(128, 256, kernel_size=(3, 3), stride=2, padding=1),  # Output Size: [256, 2, 2]\n",
        "        nn.ReLU(),\n",
        "        nn.BatchNorm2d(256),\n",
        "        nn.Dropout(0.4),\n",
        "\n",
        "        nn.Conv2d(256, 512, kernel_size=(3, 3), stride=2, padding=1),  # Output Size: [512, 1, 1]\n",
        "        nn.ReLU(),\n",
        "        nn.BatchNorm2d(512),\n",
        "        nn.Dropout(0.3),\n",
        "\n",
        "        nn.Flatten(),\n",
        "\n",
        "        nn.Linear(512 * 1 * 1, 256),  # Input size should match the number of flattened features\n",
        "        nn.Dropout(0.5),\n",
        "\n",
        "        nn.Linear(256, 128),\n",
        "        nn.Dropout(0.5),\n",
        "\n",
        "        nn.Linear(128, 10)\n",
        "    )\n",
        "\n",
        "# simple_cnn_batchnorm()"
      ],
      "metadata": {
        "id": "rf18Tpsq1mkU"
      },
      "execution_count": 16,
      "outputs": []
    },
    {
      "cell_type": "code",
      "source": [
        "# def fit_batchnorm(epochs=1, lr=0.06):\n",
        "#     learner = Learner(dls, simple_cnn_batchnorm(), loss_func=F.cross_entropy,\n",
        "#                     metrics=accuracy, cbs=ActivationStats(with_hist=True))\n",
        "#     print(learner.summary())\n",
        "#     learner.fit_one_cycle(epochs, lr)\n",
        "#     return learner"
      ],
      "metadata": {
        "id": "seKvrNw7KUgQ"
      },
      "execution_count": 17,
      "outputs": []
    },
    {
      "cell_type": "code",
      "source": [
        "learner = Learner(dls, simple_cnn_batchnorm(), loss_func=F.cross_entropy,\n",
        "                    metrics=accuracy, cbs=ActivationStats(with_hist=True))"
      ],
      "metadata": {
        "id": "XwjRirebQwz3"
      },
      "execution_count": 18,
      "outputs": []
    },
    {
      "cell_type": "code",
      "source": [
        "learner.summary()\n"
      ],
      "metadata": {
        "id": "Wl_rYpjyQy_p",
        "outputId": "de5f75ef-7fe6-4031-c37e-4fcb21e34995",
        "colab": {
          "base_uri": "https://localhost:8080/",
          "height": 1000
        }
      },
      "execution_count": 19,
      "outputs": [
        {
          "output_type": "stream",
          "name": "stderr",
          "text": [
            "/usr/local/lib/python3.10/dist-packages/fastai/callback/core.py:69: UserWarning: You are shadowing an attribute (modules) that exists in the learner. Use `self.learn.modules` to avoid this\n",
            "  warn(f\"You are shadowing an attribute ({name}) that exists in the learner. Use `self.learn.{name}` to avoid this\")\n"
          ]
        },
        {
          "output_type": "display_data",
          "data": {
            "text/plain": [
              "<IPython.core.display.HTML object>"
            ],
            "text/html": [
              "\n",
              "<style>\n",
              "    /* Turns off some styling */\n",
              "    progress {\n",
              "        /* gets rid of default border in Firefox and Opera. */\n",
              "        border: none;\n",
              "        /* Needs to be in here for Safari polyfill so background images work as expected. */\n",
              "        background-size: auto;\n",
              "    }\n",
              "    progress:not([value]), progress:not([value])::-webkit-progress-bar {\n",
              "        background: repeating-linear-gradient(45deg, #7e7e7e, #7e7e7e 10px, #5c5c5c 10px, #5c5c5c 20px);\n",
              "    }\n",
              "    .progress-bar-interrupted, .progress-bar-interrupted::-webkit-progress-bar {\n",
              "        background: #F44336;\n",
              "    }\n",
              "</style>\n"
            ]
          },
          "metadata": {}
        },
        {
          "output_type": "display_data",
          "data": {
            "text/plain": [
              "<IPython.core.display.HTML object>"
            ],
            "text/html": []
          },
          "metadata": {}
        },
        {
          "output_type": "execute_result",
          "data": {
            "text/plain": [
              "Sequential (Input shape: 512 x 1 x 28 x 28)\n",
              "============================================================================\n",
              "Layer (type)         Output Shape         Param #    Trainable \n",
              "============================================================================\n",
              "                     512 x 8 x 14 x 14   \n",
              "Conv2d                                    80         True      \n",
              "ReLU                                                           \n",
              "BatchNorm2d                               16         True      \n",
              "____________________________________________________________________________\n",
              "                     512 x 64 x 7 x 7    \n",
              "Conv2d                                    4672       True      \n",
              "ReLU                                                           \n",
              "BatchNorm2d                               128        True      \n",
              "Dropout                                                        \n",
              "____________________________________________________________________________\n",
              "                     512 x 128 x 4 x 4   \n",
              "Conv2d                                    73856      True      \n",
              "ReLU                                                           \n",
              "BatchNorm2d                               256        True      \n",
              "Dropout                                                        \n",
              "____________________________________________________________________________\n",
              "                     512 x 256 x 2 x 2   \n",
              "Conv2d                                    295168     True      \n",
              "ReLU                                                           \n",
              "BatchNorm2d                               512        True      \n",
              "Dropout                                                        \n",
              "____________________________________________________________________________\n",
              "                     512 x 512 x 1 x 1   \n",
              "Conv2d                                    1180160    True      \n",
              "ReLU                                                           \n",
              "BatchNorm2d                               1024       True      \n",
              "Dropout                                                        \n",
              "____________________________________________________________________________\n",
              "                     512 x 512           \n",
              "Flatten                                                        \n",
              "____________________________________________________________________________\n",
              "                     512 x 256           \n",
              "Linear                                    131328     True      \n",
              "Dropout                                                        \n",
              "____________________________________________________________________________\n",
              "                     512 x 128           \n",
              "Linear                                    32896      True      \n",
              "Dropout                                                        \n",
              "____________________________________________________________________________\n",
              "                     512 x 10            \n",
              "Linear                                    1290       True      \n",
              "____________________________________________________________________________\n",
              "\n",
              "Total params: 1,721,386\n",
              "Total trainable params: 1,721,386\n",
              "Total non-trainable params: 0\n",
              "\n",
              "Optimizer used: <function Adam at 0x782f2ead43a0>\n",
              "Loss function: <function cross_entropy at 0x783010014670>\n",
              "\n",
              "Callbacks:\n",
              "  - ActivationStats\n",
              "  - TrainEvalCallback\n",
              "  - CastToTensor\n",
              "  - Recorder\n",
              "  - ProgressCallback"
            ],
            "application/vnd.google.colaboratory.intrinsic+json": {
              "type": "string"
            }
          },
          "metadata": {},
          "execution_count": 19
        }
      ]
    },
    {
      "cell_type": "code",
      "source": [
        "learner.model"
      ],
      "metadata": {
        "id": "oTrKcoNFQ-S6",
        "outputId": "ca2302cf-29ed-4983-ad41-43a9ba50e678",
        "colab": {
          "base_uri": "https://localhost:8080/"
        }
      },
      "execution_count": 20,
      "outputs": [
        {
          "output_type": "execute_result",
          "data": {
            "text/plain": [
              "Sequential(\n",
              "  (0): Conv2d(1, 8, kernel_size=(3, 3), stride=(2, 2), padding=(1, 1))\n",
              "  (1): ReLU()\n",
              "  (2): BatchNorm2d(8, eps=1e-05, momentum=0.1, affine=True, track_running_stats=True)\n",
              "  (3): Conv2d(8, 64, kernel_size=(3, 3), stride=(2, 2), padding=(1, 1))\n",
              "  (4): ReLU()\n",
              "  (5): BatchNorm2d(64, eps=1e-05, momentum=0.1, affine=True, track_running_stats=True)\n",
              "  (6): Dropout(p=0.3, inplace=False)\n",
              "  (7): Conv2d(64, 128, kernel_size=(3, 3), stride=(2, 2), padding=(1, 1))\n",
              "  (8): ReLU()\n",
              "  (9): BatchNorm2d(128, eps=1e-05, momentum=0.1, affine=True, track_running_stats=True)\n",
              "  (10): Dropout(p=0.4, inplace=False)\n",
              "  (11): Conv2d(128, 256, kernel_size=(3, 3), stride=(2, 2), padding=(1, 1))\n",
              "  (12): ReLU()\n",
              "  (13): BatchNorm2d(256, eps=1e-05, momentum=0.1, affine=True, track_running_stats=True)\n",
              "  (14): Dropout(p=0.4, inplace=False)\n",
              "  (15): Conv2d(256, 512, kernel_size=(3, 3), stride=(2, 2), padding=(1, 1))\n",
              "  (16): ReLU()\n",
              "  (17): BatchNorm2d(512, eps=1e-05, momentum=0.1, affine=True, track_running_stats=True)\n",
              "  (18): Dropout(p=0.3, inplace=False)\n",
              "  (19): Flatten(start_dim=1, end_dim=-1)\n",
              "  (20): Linear(in_features=512, out_features=256, bias=True)\n",
              "  (21): Dropout(p=0.5, inplace=False)\n",
              "  (22): Linear(in_features=256, out_features=128, bias=True)\n",
              "  (23): Dropout(p=0.5, inplace=False)\n",
              "  (24): Linear(in_features=128, out_features=10, bias=True)\n",
              ")"
            ]
          },
          "metadata": {},
          "execution_count": 20
        }
      ]
    },
    {
      "cell_type": "code",
      "source": [
        "learner.model.cuda()"
      ],
      "metadata": {
        "id": "j37rdRFCRIsI",
        "colab": {
          "base_uri": "https://localhost:8080/"
        },
        "outputId": "d23f287f-ec7f-40c2-f27c-99319e35cc1d"
      },
      "execution_count": 21,
      "outputs": [
        {
          "output_type": "execute_result",
          "data": {
            "text/plain": [
              "Sequential(\n",
              "  (0): Conv2d(1, 8, kernel_size=(3, 3), stride=(2, 2), padding=(1, 1))\n",
              "  (1): ReLU()\n",
              "  (2): BatchNorm2d(8, eps=1e-05, momentum=0.1, affine=True, track_running_stats=True)\n",
              "  (3): Conv2d(8, 64, kernel_size=(3, 3), stride=(2, 2), padding=(1, 1))\n",
              "  (4): ReLU()\n",
              "  (5): BatchNorm2d(64, eps=1e-05, momentum=0.1, affine=True, track_running_stats=True)\n",
              "  (6): Dropout(p=0.3, inplace=False)\n",
              "  (7): Conv2d(64, 128, kernel_size=(3, 3), stride=(2, 2), padding=(1, 1))\n",
              "  (8): ReLU()\n",
              "  (9): BatchNorm2d(128, eps=1e-05, momentum=0.1, affine=True, track_running_stats=True)\n",
              "  (10): Dropout(p=0.4, inplace=False)\n",
              "  (11): Conv2d(128, 256, kernel_size=(3, 3), stride=(2, 2), padding=(1, 1))\n",
              "  (12): ReLU()\n",
              "  (13): BatchNorm2d(256, eps=1e-05, momentum=0.1, affine=True, track_running_stats=True)\n",
              "  (14): Dropout(p=0.4, inplace=False)\n",
              "  (15): Conv2d(256, 512, kernel_size=(3, 3), stride=(2, 2), padding=(1, 1))\n",
              "  (16): ReLU()\n",
              "  (17): BatchNorm2d(512, eps=1e-05, momentum=0.1, affine=True, track_running_stats=True)\n",
              "  (18): Dropout(p=0.3, inplace=False)\n",
              "  (19): Flatten(start_dim=1, end_dim=-1)\n",
              "  (20): Linear(in_features=512, out_features=256, bias=True)\n",
              "  (21): Dropout(p=0.5, inplace=False)\n",
              "  (22): Linear(in_features=256, out_features=128, bias=True)\n",
              "  (23): Dropout(p=0.5, inplace=False)\n",
              "  (24): Linear(in_features=128, out_features=10, bias=True)\n",
              ")"
            ]
          },
          "metadata": {},
          "execution_count": 21
        }
      ]
    },
    {
      "cell_type": "code",
      "source": [
        "learner.fit_one_cycle(n_epoch=15)"
      ],
      "metadata": {
        "id": "k5BHn1tfRRst",
        "outputId": "fa93eb92-d99d-47a9-b5d5-80a4b16309de",
        "colab": {
          "base_uri": "https://localhost:8080/",
          "height": 520
        }
      },
      "execution_count": 22,
      "outputs": [
        {
          "output_type": "display_data",
          "data": {
            "text/plain": [
              "<IPython.core.display.HTML object>"
            ],
            "text/html": [
              "\n",
              "<style>\n",
              "    /* Turns off some styling */\n",
              "    progress {\n",
              "        /* gets rid of default border in Firefox and Opera. */\n",
              "        border: none;\n",
              "        /* Needs to be in here for Safari polyfill so background images work as expected. */\n",
              "        background-size: auto;\n",
              "    }\n",
              "    progress:not([value]), progress:not([value])::-webkit-progress-bar {\n",
              "        background: repeating-linear-gradient(45deg, #7e7e7e, #7e7e7e 10px, #5c5c5c 10px, #5c5c5c 20px);\n",
              "    }\n",
              "    .progress-bar-interrupted, .progress-bar-interrupted::-webkit-progress-bar {\n",
              "        background: #F44336;\n",
              "    }\n",
              "</style>\n"
            ]
          },
          "metadata": {}
        },
        {
          "output_type": "display_data",
          "data": {
            "text/plain": [
              "<IPython.core.display.HTML object>"
            ],
            "text/html": [
              "<table border=\"1\" class=\"dataframe\">\n",
              "  <thead>\n",
              "    <tr style=\"text-align: left;\">\n",
              "      <th>epoch</th>\n",
              "      <th>train_loss</th>\n",
              "      <th>valid_loss</th>\n",
              "      <th>accuracy</th>\n",
              "      <th>time</th>\n",
              "    </tr>\n",
              "  </thead>\n",
              "  <tbody>\n",
              "    <tr>\n",
              "      <td>0</td>\n",
              "      <td>1.378811</td>\n",
              "      <td>0.486116</td>\n",
              "      <td>0.856800</td>\n",
              "      <td>00:24</td>\n",
              "    </tr>\n",
              "    <tr>\n",
              "      <td>1</td>\n",
              "      <td>0.411770</td>\n",
              "      <td>0.103991</td>\n",
              "      <td>0.965700</td>\n",
              "      <td>00:24</td>\n",
              "    </tr>\n",
              "    <tr>\n",
              "      <td>2</td>\n",
              "      <td>0.187260</td>\n",
              "      <td>0.067350</td>\n",
              "      <td>0.978100</td>\n",
              "      <td>00:24</td>\n",
              "    </tr>\n",
              "    <tr>\n",
              "      <td>3</td>\n",
              "      <td>0.125554</td>\n",
              "      <td>0.053258</td>\n",
              "      <td>0.983100</td>\n",
              "      <td>00:25</td>\n",
              "    </tr>\n",
              "    <tr>\n",
              "      <td>4</td>\n",
              "      <td>0.096648</td>\n",
              "      <td>0.043043</td>\n",
              "      <td>0.985700</td>\n",
              "      <td>00:24</td>\n",
              "    </tr>\n",
              "    <tr>\n",
              "      <td>5</td>\n",
              "      <td>0.086529</td>\n",
              "      <td>0.042972</td>\n",
              "      <td>0.985300</td>\n",
              "      <td>00:24</td>\n",
              "    </tr>\n",
              "    <tr>\n",
              "      <td>6</td>\n",
              "      <td>0.074705</td>\n",
              "      <td>0.032577</td>\n",
              "      <td>0.989300</td>\n",
              "      <td>00:25</td>\n",
              "    </tr>\n",
              "    <tr>\n",
              "      <td>7</td>\n",
              "      <td>0.062107</td>\n",
              "      <td>0.030449</td>\n",
              "      <td>0.990400</td>\n",
              "      <td>00:25</td>\n",
              "    </tr>\n",
              "    <tr>\n",
              "      <td>8</td>\n",
              "      <td>0.057515</td>\n",
              "      <td>0.026515</td>\n",
              "      <td>0.990600</td>\n",
              "      <td>00:26</td>\n",
              "    </tr>\n",
              "    <tr>\n",
              "      <td>9</td>\n",
              "      <td>0.050053</td>\n",
              "      <td>0.027694</td>\n",
              "      <td>0.991600</td>\n",
              "      <td>00:26</td>\n",
              "    </tr>\n",
              "    <tr>\n",
              "      <td>10</td>\n",
              "      <td>0.042929</td>\n",
              "      <td>0.023367</td>\n",
              "      <td>0.992300</td>\n",
              "      <td>00:26</td>\n",
              "    </tr>\n",
              "    <tr>\n",
              "      <td>11</td>\n",
              "      <td>0.035549</td>\n",
              "      <td>0.024708</td>\n",
              "      <td>0.992400</td>\n",
              "      <td>00:26</td>\n",
              "    </tr>\n",
              "    <tr>\n",
              "      <td>12</td>\n",
              "      <td>0.032241</td>\n",
              "      <td>0.024153</td>\n",
              "      <td>0.992700</td>\n",
              "      <td>00:27</td>\n",
              "    </tr>\n",
              "    <tr>\n",
              "      <td>13</td>\n",
              "      <td>0.031774</td>\n",
              "      <td>0.023292</td>\n",
              "      <td>0.992500</td>\n",
              "      <td>00:28</td>\n",
              "    </tr>\n",
              "    <tr>\n",
              "      <td>14</td>\n",
              "      <td>0.030115</td>\n",
              "      <td>0.023236</td>\n",
              "      <td>0.992800</td>\n",
              "      <td>00:28</td>\n",
              "    </tr>\n",
              "  </tbody>\n",
              "</table>"
            ]
          },
          "metadata": {}
        }
      ]
    },
    {
      "cell_type": "code",
      "source": [],
      "metadata": {
        "id": "LJxDMkQrc5qh"
      },
      "execution_count": null,
      "outputs": []
    },
    {
      "cell_type": "code",
      "source": [
        "learner.activation_stats.plot_layer_stats(-2)"
      ],
      "metadata": {
        "id": "a9_Cu2akLuog",
        "outputId": "7685b76b-b772-46a5-ca35-262d6051c47c",
        "colab": {
          "base_uri": "https://localhost:8080/",
          "height": 314
        }
      },
      "execution_count": 24,
      "outputs": [
        {
          "output_type": "display_data",
          "data": {
            "text/plain": [
              "<Figure size 1200x300 with 3 Axes>"
            ],
            "image/png": "[encoded data removed]"
          },
          "metadata": {}
        }
      ]
    }
  ]
}