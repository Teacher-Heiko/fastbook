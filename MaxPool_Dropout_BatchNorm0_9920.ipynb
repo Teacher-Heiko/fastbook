{
  "nbformat": 4,
  "nbformat_minor": 0,
  "metadata": {
    "colab": {
      "provenance": [],
      "gpuType": "V100",
      "machine_shape": "hm",
      "include_colab_link": true
    },
    "kernelspec": {
      "name": "python3",
      "display_name": "Python 3"
    },
    "language_info": {
      "name": "python"
    },
    "accelerator": "GPU"
  },
  "cells": [
    {
      "cell_type": "markdown",
      "metadata": {
        "id": "view-in-github",
        "colab_type": "text"
      },
      "source": [
        "<a href=\"https://colab.research.google.com/github/Teacher-Heiko/fastbook/blob/master/MaxPool_Dropout_BatchNorm0_9920.ipynb\" target=\"_parent\"><img src=\"https://colab.research.google.com/assets/colab-badge.svg\" alt=\"Open In Colab\"/></a>"
      ]
    },
    {
      "cell_type": "code",
      "execution_count": 1,
      "metadata": {
        "id": "sTIiu7LmY9N8"
      },
      "outputs": [],
      "source": [
        "import torch\n",
        "import torch.nn as nn\n",
        "import matplotlib.pyplot as plt\n",
        "from torchvision import datasets, transforms\n",
        "from torch.utils.data import DataLoader\n",
        "import numpy as np\n",
        "\n"
      ]
    },
    {
      "cell_type": "code",
      "source": [
        "# # Download and prepare the dataset\n",
        "# transform = transforms.Compose([\n",
        "#     transforms.ToTensor(),\n",
        "# ])\n",
        "\n",
        "# dataset = datasets.MNIST(root='./data', train=True, download=True, transform=transform)\n",
        "# dataloader = DataLoader(dataset, batch_size=32, shuffle=True)\n"
      ],
      "metadata": {
        "id": "aARVdCcyZ-df"
      },
      "execution_count": 2,
      "outputs": []
    },
    {
      "cell_type": "code",
      "source": [
        "from fastai.vision.all import *\n",
        "\n",
        "path = untar_data(URLs.MNIST)"
      ],
      "metadata": {
        "id": "WCUM_S1JgSLT"
      },
      "execution_count": 3,
      "outputs": []
    },
    {
      "cell_type": "code",
      "source": [
        "Path.BASE_PATH = path\n",
        "\n",
        "def get_dls(bs=128):\n",
        "    return DataBlock(\n",
        "        blocks=(ImageBlock(cls=PILImageBW), CategoryBlock),\n",
        "        get_items=get_image_files,\n",
        "        splitter=GrandparentSplitter('training','testing'),\n",
        "        get_y=parent_label,\n",
        "        batch_tfms=Normalize()\n",
        "    ).dataloaders(path, bs=bs)\n",
        "\n",
        "dls = get_dls()"
      ],
      "metadata": {
        "id": "9FUnGkiHiHkk"
      },
      "execution_count": 4,
      "outputs": []
    },
    {
      "cell_type": "code",
      "source": [
        "dls.show_batch(max_n=9, figsize=(4,4))"
      ],
      "metadata": {
        "colab": {
          "base_uri": "https://localhost:8080/",
          "height": 367
        },
        "id": "mfFf-KPliYOM",
        "outputId": "c418bdb4-cb9f-459f-b550-c90e69ff3fd8"
      },
      "execution_count": 5,
      "outputs": [
        {
          "output_type": "display_data",
          "data": {
            "text/plain": [
              "<Figure size 400x400 with 9 Axes>"
            ],
            "image/png": "[encoded data removed]"
          },
          "metadata": {}
        }
      ]
    },
    {
      "cell_type": "code",
      "source": [
        "# learn.lr_find()"
      ],
      "metadata": {
        "id": "lTeTC_RQnums"
      },
      "execution_count": 10,
      "outputs": []
    },
    {
      "cell_type": "markdown",
      "source": [
        "<figure>\n",
        "<!-- <img src=\"./images/2-convmodel-2.png\" width=\"250\" alt=\"Diagram of a convolutional model.\"> -->\n",
        "<img src=\"https://storage.googleapis.com/kaggle-media/learn/images/Vko6nCK.png\" width=\"250\" alt=\"Diagram of a convolutional model.\">\n",
        "</figure>"
      ],
      "metadata": {
        "id": "npXaDQW257sa"
      }
    },
    {
      "cell_type": "code",
      "source": [
        "def simple_cnn_batchnorm():\n",
        "    return nn.Sequential(\n",
        "        nn.Conv2d(1, 64, kernel_size=(3, 3), stride=2, padding=1),\n",
        "        nn.BatchNorm2d(64),\n",
        "        nn.ReLU(),\n",
        "\n",
        "        nn.Conv2d(64, 128, kernel_size=(3, 3), stride=2, padding=1),\n",
        "        nn.BatchNorm2d(128),\n",
        "        nn.ReLU(),\n",
        "        nn.Dropout(0.5),\n",
        "\n",
        "        nn.MaxPool2d(2),\n",
        "        nn.BatchNorm2d(128),\n",
        "\n",
        "        nn.Conv2d(128, 128, kernel_size=(3, 3), stride=2, padding=1),\n",
        "        nn.ReLU(),\n",
        "        nn.BatchNorm2d(128),\n",
        "        nn.MaxPool2d(2),\n",
        "\n",
        "        nn.Flatten(),\n",
        "        nn.Linear(128 * 1 * 1, 128),  # Adjust the input size to match the number of flattened features\n",
        "        nn.ReLU(),\n",
        "        nn.BatchNorm1d(128),\n",
        "        nn.Dropout(0.8),\n",
        "\n",
        "        nn.Linear(128, 64),\n",
        "        nn.ReLU(),\n",
        "        nn.BatchNorm1d(64),\n",
        "\n",
        "        nn.Linear(64, 10)\n",
        "    )"
      ],
      "metadata": {
        "id": "rf18Tpsq1mkU"
      },
      "execution_count": 16,
      "outputs": []
    },
    {
      "cell_type": "code",
      "source": [
        "learner = Learner(dls, simple_cnn_batchnorm(), loss_func=F.cross_entropy,\n",
        "                    metrics=accuracy, cbs=ActivationStats(with_hist=True))"
      ],
      "metadata": {
        "id": "XwjRirebQwz3"
      },
      "execution_count": 17,
      "outputs": []
    },
    {
      "cell_type": "code",
      "source": [
        "learner.summary()\n"
      ],
      "metadata": {
        "id": "Wl_rYpjyQy_p",
        "outputId": "12dd6aa9-7bed-4abd-e137-0599b9ef3ac1",
        "colab": {
          "base_uri": "https://localhost:8080/",
          "height": 1000
        }
      },
      "execution_count": 18,
      "outputs": [
        {
          "output_type": "stream",
          "name": "stderr",
          "text": [
            "/usr/local/lib/python3.10/dist-packages/fastai/callback/core.py:69: UserWarning: You are shadowing an attribute (modules) that exists in the learner. Use `self.learn.modules` to avoid this\n",
            "  warn(f\"You are shadowing an attribute ({name}) that exists in the learner. Use `self.learn.{name}` to avoid this\")\n"
          ]
        },
        {
          "output_type": "display_data",
          "data": {
            "text/plain": [
              "<IPython.core.display.HTML object>"
            ],
            "text/html": [
              "\n",
              "<style>\n",
              "    /* Turns off some styling */\n",
              "    progress {\n",
              "        /* gets rid of default border in Firefox and Opera. */\n",
              "        border: none;\n",
              "        /* Needs to be in here for Safari polyfill so background images work as expected. */\n",
              "        background-size: auto;\n",
              "    }\n",
              "    progress:not([value]), progress:not([value])::-webkit-progress-bar {\n",
              "        background: repeating-linear-gradient(45deg, #7e7e7e, #7e7e7e 10px, #5c5c5c 10px, #5c5c5c 20px);\n",
              "    }\n",
              "    .progress-bar-interrupted, .progress-bar-interrupted::-webkit-progress-bar {\n",
              "        background: #F44336;\n",
              "    }\n",
              "</style>\n"
            ]
          },
          "metadata": {}
        },
        {
          "output_type": "display_data",
          "data": {
            "text/plain": [
              "<IPython.core.display.HTML object>"
            ],
            "text/html": []
          },
          "metadata": {}
        },
        {
          "output_type": "execute_result",
          "data": {
            "text/plain": [
              "Sequential (Input shape: 128 x 1 x 28 x 28)\n",
              "============================================================================\n",
              "Layer (type)         Output Shape         Param #    Trainable \n",
              "============================================================================\n",
              "                     128 x 64 x 14 x 14  \n",
              "Conv2d                                    640        True      \n",
              "BatchNorm2d                               128        True      \n",
              "ReLU                                                           \n",
              "____________________________________________________________________________\n",
              "                     128 x 128 x 7 x 7   \n",
              "Conv2d                                    73856      True      \n",
              "BatchNorm2d                               256        True      \n",
              "ReLU                                                           \n",
              "Dropout                                                        \n",
              "____________________________________________________________________________\n",
              "                     128 x 128 x 3 x 3   \n",
              "MaxPool2d                                                      \n",
              "BatchNorm2d                               256        True      \n",
              "____________________________________________________________________________\n",
              "                     128 x 128 x 2 x 2   \n",
              "Conv2d                                    147584     True      \n",
              "ReLU                                                           \n",
              "BatchNorm2d                               256        True      \n",
              "____________________________________________________________________________\n",
              "                     128 x 128 x 1 x 1   \n",
              "MaxPool2d                                                      \n",
              "____________________________________________________________________________\n",
              "                     128 x 128           \n",
              "Flatten                                                        \n",
              "Linear                                    16512      True      \n",
              "ReLU                                                           \n",
              "BatchNorm1d                               256        True      \n",
              "Dropout                                                        \n",
              "____________________________________________________________________________\n",
              "                     128 x 64            \n",
              "Linear                                    8256       True      \n",
              "ReLU                                                           \n",
              "BatchNorm1d                               128        True      \n",
              "____________________________________________________________________________\n",
              "                     128 x 10            \n",
              "Linear                                    650        True      \n",
              "____________________________________________________________________________\n",
              "\n",
              "Total params: 248,778\n",
              "Total trainable params: 248,778\n",
              "Total non-trainable params: 0\n",
              "\n",
              "Optimizer used: <function Adam at 0x7f453b1b3d00>\n",
              "Loss function: <function cross_entropy at 0x7f461810c550>\n",
              "\n",
              "Callbacks:\n",
              "  - ActivationStats\n",
              "  - TrainEvalCallback\n",
              "  - CastToTensor\n",
              "  - Recorder\n",
              "  - ProgressCallback"
            ],
            "application/vnd.google.colaboratory.intrinsic+json": {
              "type": "string"
            }
          },
          "metadata": {},
          "execution_count": 18
        }
      ]
    },
    {
      "cell_type": "code",
      "source": [
        "learner.model"
      ],
      "metadata": {
        "id": "oTrKcoNFQ-S6",
        "outputId": "89281b2c-23c9-4e19-e397-e1492240b40c",
        "colab": {
          "base_uri": "https://localhost:8080/"
        }
      },
      "execution_count": 19,
      "outputs": [
        {
          "output_type": "execute_result",
          "data": {
            "text/plain": [
              "Sequential(\n",
              "  (0): Conv2d(1, 64, kernel_size=(3, 3), stride=(2, 2), padding=(1, 1))\n",
              "  (1): BatchNorm2d(64, eps=1e-05, momentum=0.1, affine=True, track_running_stats=True)\n",
              "  (2): ReLU()\n",
              "  (3): Conv2d(64, 128, kernel_size=(3, 3), stride=(2, 2), padding=(1, 1))\n",
              "  (4): BatchNorm2d(128, eps=1e-05, momentum=0.1, affine=True, track_running_stats=True)\n",
              "  (5): ReLU()\n",
              "  (6): Dropout(p=0.5, inplace=False)\n",
              "  (7): MaxPool2d(kernel_size=2, stride=2, padding=0, dilation=1, ceil_mode=False)\n",
              "  (8): BatchNorm2d(128, eps=1e-05, momentum=0.1, affine=True, track_running_stats=True)\n",
              "  (9): Conv2d(128, 128, kernel_size=(3, 3), stride=(2, 2), padding=(1, 1))\n",
              "  (10): ReLU()\n",
              "  (11): BatchNorm2d(128, eps=1e-05, momentum=0.1, affine=True, track_running_stats=True)\n",
              "  (12): MaxPool2d(kernel_size=2, stride=2, padding=0, dilation=1, ceil_mode=False)\n",
              "  (13): Flatten(start_dim=1, end_dim=-1)\n",
              "  (14): Linear(in_features=128, out_features=128, bias=True)\n",
              "  (15): ReLU()\n",
              "  (16): BatchNorm1d(128, eps=1e-05, momentum=0.1, affine=True, track_running_stats=True)\n",
              "  (17): Dropout(p=0.8, inplace=False)\n",
              "  (18): Linear(in_features=128, out_features=64, bias=True)\n",
              "  (19): ReLU()\n",
              "  (20): BatchNorm1d(64, eps=1e-05, momentum=0.1, affine=True, track_running_stats=True)\n",
              "  (21): Linear(in_features=64, out_features=10, bias=True)\n",
              ")"
            ]
          },
          "metadata": {},
          "execution_count": 19
        }
      ]
    },
    {
      "cell_type": "code",
      "source": [
        "learner.fit_one_cycle(n_epoch=80)"
      ],
      "metadata": {
        "id": "k5BHn1tfRRst",
        "outputId": "b454dc3e-873d-49c7-c610-421bd8518aeb",
        "colab": {
          "base_uri": "https://localhost:8080/",
          "height": 1000
        }
      },
      "execution_count": null,
      "outputs": [
        {
          "output_type": "display_data",
          "data": {
            "text/plain": [
              "<IPython.core.display.HTML object>"
            ],
            "text/html": [
              "\n",
              "<style>\n",
              "    /* Turns off some styling */\n",
              "    progress {\n",
              "        /* gets rid of default border in Firefox and Opera. */\n",
              "        border: none;\n",
              "        /* Needs to be in here for Safari polyfill so background images work as expected. */\n",
              "        background-size: auto;\n",
              "    }\n",
              "    progress:not([value]), progress:not([value])::-webkit-progress-bar {\n",
              "        background: repeating-linear-gradient(45deg, #7e7e7e, #7e7e7e 10px, #5c5c5c 10px, #5c5c5c 20px);\n",
              "    }\n",
              "    .progress-bar-interrupted, .progress-bar-interrupted::-webkit-progress-bar {\n",
              "        background: #F44336;\n",
              "    }\n",
              "</style>\n"
            ]
          },
          "metadata": {}
        },
        {
          "output_type": "display_data",
          "data": {
            "text/plain": [
              "<IPython.core.display.HTML object>"
            ],
            "text/html": [
              "\n",
              "    <div>\n",
              "      <progress value='42' class='' max='80' style='width:300px; height:20px; vertical-align: middle;'></progress>\n",
              "      52.50% [42/80 25:37&lt;23:11]\n",
              "    </div>\n",
              "    \n",
              "<table border=\"1\" class=\"dataframe\">\n",
              "  <thead>\n",
              "    <tr style=\"text-align: left;\">\n",
              "      <th>epoch</th>\n",
              "      <th>train_loss</th>\n",
              "      <th>valid_loss</th>\n",
              "      <th>accuracy</th>\n",
              "      <th>time</th>\n",
              "    </tr>\n",
              "  </thead>\n",
              "  <tbody>\n",
              "    <tr>\n",
              "      <td>0</td>\n",
              "      <td>0.020736</td>\n",
              "      <td>0.029723</td>\n",
              "      <td>0.991400</td>\n",
              "      <td>00:38</td>\n",
              "    </tr>\n",
              "    <tr>\n",
              "      <td>1</td>\n",
              "      <td>0.020450</td>\n",
              "      <td>0.029696</td>\n",
              "      <td>0.991300</td>\n",
              "      <td>00:37</td>\n",
              "    </tr>\n",
              "    <tr>\n",
              "      <td>2</td>\n",
              "      <td>0.018506</td>\n",
              "      <td>0.029821</td>\n",
              "      <td>0.991600</td>\n",
              "      <td>00:37</td>\n",
              "    </tr>\n",
              "    <tr>\n",
              "      <td>3</td>\n",
              "      <td>0.016665</td>\n",
              "      <td>0.029480</td>\n",
              "      <td>0.991100</td>\n",
              "      <td>00:37</td>\n",
              "    </tr>\n",
              "    <tr>\n",
              "      <td>4</td>\n",
              "      <td>0.018240</td>\n",
              "      <td>0.031500</td>\n",
              "      <td>0.991100</td>\n",
              "      <td>00:37</td>\n",
              "    </tr>\n",
              "    <tr>\n",
              "      <td>5</td>\n",
              "      <td>0.019404</td>\n",
              "      <td>0.031210</td>\n",
              "      <td>0.990800</td>\n",
              "      <td>00:36</td>\n",
              "    </tr>\n",
              "    <tr>\n",
              "      <td>6</td>\n",
              "      <td>0.023102</td>\n",
              "      <td>0.029036</td>\n",
              "      <td>0.991600</td>\n",
              "      <td>00:37</td>\n",
              "    </tr>\n",
              "    <tr>\n",
              "      <td>7</td>\n",
              "      <td>0.025577</td>\n",
              "      <td>0.033048</td>\n",
              "      <td>0.990900</td>\n",
              "      <td>00:37</td>\n",
              "    </tr>\n",
              "    <tr>\n",
              "      <td>8</td>\n",
              "      <td>0.020975</td>\n",
              "      <td>0.032421</td>\n",
              "      <td>0.990600</td>\n",
              "      <td>00:37</td>\n",
              "    </tr>\n",
              "    <tr>\n",
              "      <td>9</td>\n",
              "      <td>0.028172</td>\n",
              "      <td>0.032798</td>\n",
              "      <td>0.990700</td>\n",
              "      <td>00:37</td>\n",
              "    </tr>\n",
              "    <tr>\n",
              "      <td>10</td>\n",
              "      <td>0.031189</td>\n",
              "      <td>0.032081</td>\n",
              "      <td>0.990700</td>\n",
              "      <td>00:37</td>\n",
              "    </tr>\n",
              "    <tr>\n",
              "      <td>11</td>\n",
              "      <td>0.027777</td>\n",
              "      <td>0.030010</td>\n",
              "      <td>0.991800</td>\n",
              "      <td>00:37</td>\n",
              "    </tr>\n",
              "    <tr>\n",
              "      <td>12</td>\n",
              "      <td>0.034059</td>\n",
              "      <td>0.034542</td>\n",
              "      <td>0.990500</td>\n",
              "      <td>00:37</td>\n",
              "    </tr>\n",
              "    <tr>\n",
              "      <td>13</td>\n",
              "      <td>0.037583</td>\n",
              "      <td>0.031523</td>\n",
              "      <td>0.991700</td>\n",
              "      <td>00:37</td>\n",
              "    </tr>\n",
              "    <tr>\n",
              "      <td>14</td>\n",
              "      <td>0.031448</td>\n",
              "      <td>0.032306</td>\n",
              "      <td>0.990900</td>\n",
              "      <td>00:38</td>\n",
              "    </tr>\n",
              "    <tr>\n",
              "      <td>15</td>\n",
              "      <td>0.034714</td>\n",
              "      <td>0.031665</td>\n",
              "      <td>0.991400</td>\n",
              "      <td>00:38</td>\n",
              "    </tr>\n",
              "    <tr>\n",
              "      <td>16</td>\n",
              "      <td>0.036621</td>\n",
              "      <td>0.029267</td>\n",
              "      <td>0.991400</td>\n",
              "      <td>00:36</td>\n",
              "    </tr>\n",
              "    <tr>\n",
              "      <td>17</td>\n",
              "      <td>0.036279</td>\n",
              "      <td>0.027755</td>\n",
              "      <td>0.991700</td>\n",
              "      <td>00:36</td>\n",
              "    </tr>\n",
              "    <tr>\n",
              "      <td>18</td>\n",
              "      <td>0.035751</td>\n",
              "      <td>0.028913</td>\n",
              "      <td>0.991600</td>\n",
              "      <td>00:36</td>\n",
              "    </tr>\n",
              "    <tr>\n",
              "      <td>19</td>\n",
              "      <td>0.033975</td>\n",
              "      <td>0.030375</td>\n",
              "      <td>0.990800</td>\n",
              "      <td>00:36</td>\n",
              "    </tr>\n",
              "    <tr>\n",
              "      <td>20</td>\n",
              "      <td>0.038039</td>\n",
              "      <td>0.030000</td>\n",
              "      <td>0.991400</td>\n",
              "      <td>00:36</td>\n",
              "    </tr>\n",
              "    <tr>\n",
              "      <td>21</td>\n",
              "      <td>0.032730</td>\n",
              "      <td>0.033237</td>\n",
              "      <td>0.990000</td>\n",
              "      <td>00:36</td>\n",
              "    </tr>\n",
              "    <tr>\n",
              "      <td>22</td>\n",
              "      <td>0.031589</td>\n",
              "      <td>0.034079</td>\n",
              "      <td>0.989900</td>\n",
              "      <td>00:36</td>\n",
              "    </tr>\n",
              "    <tr>\n",
              "      <td>23</td>\n",
              "      <td>0.029757</td>\n",
              "      <td>0.036283</td>\n",
              "      <td>0.990300</td>\n",
              "      <td>00:35</td>\n",
              "    </tr>\n",
              "    <tr>\n",
              "      <td>24</td>\n",
              "      <td>0.031181</td>\n",
              "      <td>0.031576</td>\n",
              "      <td>0.991400</td>\n",
              "      <td>00:36</td>\n",
              "    </tr>\n",
              "    <tr>\n",
              "      <td>25</td>\n",
              "      <td>0.023901</td>\n",
              "      <td>0.030128</td>\n",
              "      <td>0.992200</td>\n",
              "      <td>00:36</td>\n",
              "    </tr>\n",
              "    <tr>\n",
              "      <td>26</td>\n",
              "      <td>0.023617</td>\n",
              "      <td>0.030716</td>\n",
              "      <td>0.991500</td>\n",
              "      <td>00:36</td>\n",
              "    </tr>\n",
              "    <tr>\n",
              "      <td>27</td>\n",
              "      <td>0.027427</td>\n",
              "      <td>0.029680</td>\n",
              "      <td>0.992100</td>\n",
              "      <td>00:37</td>\n",
              "    </tr>\n",
              "    <tr>\n",
              "      <td>28</td>\n",
              "      <td>0.028623</td>\n",
              "      <td>0.033676</td>\n",
              "      <td>0.991200</td>\n",
              "      <td>00:35</td>\n",
              "    </tr>\n",
              "    <tr>\n",
              "      <td>29</td>\n",
              "      <td>0.028450</td>\n",
              "      <td>0.029550</td>\n",
              "      <td>0.992000</td>\n",
              "      <td>00:35</td>\n",
              "    </tr>\n",
              "    <tr>\n",
              "      <td>30</td>\n",
              "      <td>0.024079</td>\n",
              "      <td>0.029619</td>\n",
              "      <td>0.991600</td>\n",
              "      <td>00:35</td>\n",
              "    </tr>\n",
              "    <tr>\n",
              "      <td>31</td>\n",
              "      <td>0.024338</td>\n",
              "      <td>0.027985</td>\n",
              "      <td>0.991500</td>\n",
              "      <td>00:35</td>\n",
              "    </tr>\n",
              "    <tr>\n",
              "      <td>32</td>\n",
              "      <td>0.019859</td>\n",
              "      <td>0.031482</td>\n",
              "      <td>0.991100</td>\n",
              "      <td>00:35</td>\n",
              "    </tr>\n",
              "    <tr>\n",
              "      <td>33</td>\n",
              "      <td>0.024145</td>\n",
              "      <td>0.032575</td>\n",
              "      <td>0.991000</td>\n",
              "      <td>00:35</td>\n",
              "    </tr>\n",
              "    <tr>\n",
              "      <td>34</td>\n",
              "      <td>0.026138</td>\n",
              "      <td>0.031059</td>\n",
              "      <td>0.991500</td>\n",
              "      <td>00:35</td>\n",
              "    </tr>\n",
              "    <tr>\n",
              "      <td>35</td>\n",
              "      <td>0.026998</td>\n",
              "      <td>0.031994</td>\n",
              "      <td>0.990600</td>\n",
              "      <td>00:36</td>\n",
              "    </tr>\n",
              "    <tr>\n",
              "      <td>36</td>\n",
              "      <td>0.019291</td>\n",
              "      <td>0.032274</td>\n",
              "      <td>0.990900</td>\n",
              "      <td>00:35</td>\n",
              "    </tr>\n",
              "    <tr>\n",
              "      <td>37</td>\n",
              "      <td>0.020833</td>\n",
              "      <td>0.031470</td>\n",
              "      <td>0.991600</td>\n",
              "      <td>00:35</td>\n",
              "    </tr>\n",
              "    <tr>\n",
              "      <td>38</td>\n",
              "      <td>0.022054</td>\n",
              "      <td>0.032853</td>\n",
              "      <td>0.991300</td>\n",
              "      <td>00:35</td>\n",
              "    </tr>\n",
              "    <tr>\n",
              "      <td>39</td>\n",
              "      <td>0.015593</td>\n",
              "      <td>0.031388</td>\n",
              "      <td>0.991300</td>\n",
              "      <td>00:35</td>\n",
              "    </tr>\n",
              "    <tr>\n",
              "      <td>40</td>\n",
              "      <td>0.019923</td>\n",
              "      <td>0.033420</td>\n",
              "      <td>0.991400</td>\n",
              "      <td>00:36</td>\n",
              "    </tr>\n",
              "    <tr>\n",
              "      <td>41</td>\n",
              "      <td>0.018126</td>\n",
              "      <td>0.029986</td>\n",
              "      <td>0.992000</td>\n",
              "      <td>00:36</td>\n",
              "    </tr>\n",
              "  </tbody>\n",
              "</table><p>\n",
              "\n",
              "    <div>\n",
              "      <progress value='48' class='' max='79' style='width:300px; height:20px; vertical-align: middle;'></progress>\n",
              "      60.76% [48/79 00:04&lt;00:02 0.0165]\n",
              "    </div>\n",
              "    "
            ]
          },
          "metadata": {}
        }
      ]
    },
    {
      "cell_type": "code",
      "source": [
        "learner.activation_stats.plot_layer_stats(-2)"
      ],
      "metadata": {
        "id": "a9_Cu2akLuog",
        "colab": {
          "base_uri": "https://localhost:8080/",
          "height": 238
        },
        "outputId": "08d10386-b2b3-4197-fb18-7092eaf0d33f"
      },
      "execution_count": 21,
      "outputs": [
        {
          "output_type": "display_data",
          "data": {
            "text/plain": [
              "<Figure size 1200x300 with 3 Axes>"
            ],
            "image/png": "[encoded data removed]"
          },
          "metadata": {}
        }
      ]
    },
    {
      "cell_type": "code",
      "source": [],
      "metadata": {
        "id": "wwXoSnXbIgc0"
      },
      "execution_count": 21,
      "outputs": []
    }
  ]
}