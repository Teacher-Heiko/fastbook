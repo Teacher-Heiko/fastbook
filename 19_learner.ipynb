{
  "cells": [
    {
      "cell_type": "markdown",
      "metadata": {
        "id": "view-in-github",
        "colab_type": "text"
      },
      "source": [
        "<a href=\"https://colab.research.google.com/github/Teacher-Heiko/fastbook/blob/master/19_learner.ipynb\" target=\"_parent\"><img src=\"https://colab.research.google.com/assets/colab-badge.svg\" alt=\"Open In Colab\"/></a>"
      ]
    },
    {
      "cell_type": "code",
      "execution_count": 2,
      "metadata": {
        "id": "3sK0H8T5wRkJ",
        "outputId": "6d6cbad1-48b7-41b9-b0a1-8c4867eed116",
        "colab": {
          "base_uri": "https://localhost:8080/"
        }
      },
      "outputs": [
        {
          "output_type": "stream",
          "name": "stdout",
          "text": [
            "\u001b[2K     \u001b[90m━━━━━━━━━━━━━━━━━━━━━━━━━━━━━━━━━━━━━━━━\u001b[0m \u001b[32m719.8/719.8 kB\u001b[0m \u001b[31m7.5 MB/s\u001b[0m eta \u001b[36m0:00:00\u001b[0m\n",
            "\u001b[2K     \u001b[90m━━━━━━━━━━━━━━━━━━━━━━━━━━━━━━━━━━━━━━━━\u001b[0m \u001b[32m536.7/536.7 kB\u001b[0m \u001b[31m10.2 MB/s\u001b[0m eta \u001b[36m0:00:00\u001b[0m\n",
            "\u001b[2K     \u001b[90m━━━━━━━━━━━━━━━━━━━━━━━━━━━━━━━━━━━━━━━━\u001b[0m \u001b[32m116.3/116.3 kB\u001b[0m \u001b[31m13.8 MB/s\u001b[0m eta \u001b[36m0:00:00\u001b[0m\n",
            "\u001b[2K     \u001b[90m━━━━━━━━━━━━━━━━━━━━━━━━━━━━━━━━━━━━━━━━\u001b[0m \u001b[32m134.8/134.8 kB\u001b[0m \u001b[31m17.3 MB/s\u001b[0m eta \u001b[36m0:00:00\u001b[0m\n",
            "\u001b[2K     \u001b[90m━━━━━━━━━━━━━━━━━━━━━━━━━━━━━━━━━━━━━━━━\u001b[0m \u001b[32m1.6/1.6 MB\u001b[0m \u001b[31m14.2 MB/s\u001b[0m eta \u001b[36m0:00:00\u001b[0m\n",
            "\u001b[?25hMounted at /content/gdrive\n"
          ]
        }
      ],
      "source": [
        "#hide\n",
        "! [ -e /content ] && pip install -Uqq fastbook\n",
        "import fastbook\n",
        "fastbook.setup_book()"
      ]
    },
    {
      "cell_type": "code",
      "execution_count": 3,
      "metadata": {
        "id": "hst4-65XwRkL"
      },
      "outputs": [],
      "source": [
        "#hide\n",
        "from fastbook import *"
      ]
    },
    {
      "cell_type": "markdown",
      "metadata": {
        "id": "b3s-tpe5wRkL"
      },
      "source": [
        "# A fastai Learner from Scratch"
      ]
    },
    {
      "cell_type": "markdown",
      "metadata": {
        "id": "e1bSjRQFwRkM"
      },
      "source": [
        "This final chapter (other than the conclusion and the online chapters) is going to look a bit different. It contains far more code and far less prose than the previous chapters. We will introduce new Python keywords and libraries without discussing them. This chapter is meant to be the start of a significant research project for you. You see, we are going to implement many of the key pieces of the fastai and PyTorch APIs from scratch, building on nothing other than the components that we developed in 'chapter_foundations'! The key goal here is to end up with your own `Learner` class, and some callbacks—enough to be able to train a model on Imagenette, including examples of each of the key techniques we've studied. On the way to building `Learner`, we will create our own version of `Module`, `Parameter`, and parallel `DataLoader` so you have a very good idea of what those PyTorch classes do.\n",
        "\n",
        "The end-of-chapter questionnaire is particularly important for this chapter. This is where we will be pointing you in the many interesting directions that you could take, using this chapter as your starting point. We suggest that you follow along with this chapter on your computer, and do lots of experiments, web searches, and whatever else you need to understand what's going on. You've built up the skills and expertise to do this in the rest of this book, so we think you are going to do great!"
      ]
    },
    {
      "cell_type": "markdown",
      "metadata": {
        "id": "rW1tiMZXwRkN"
      },
      "source": [
        "Let's begin by gathering (manually) some data."
      ]
    },
    {
      "cell_type": "markdown",
      "metadata": {
        "id": "XIK6HcPCwRkN"
      },
      "source": [
        "## Data"
      ]
    },
    {
      "cell_type": "markdown",
      "metadata": {
        "id": "r6H9bsaIwRkN"
      },
      "source": [
        "Have a look at the source to `untar_data` to see how it works. We'll use it here to access the 160-pixel version of Imagenette for use in this chapter:"
      ]
    },
    {
      "cell_type": "code",
      "execution_count": 4,
      "metadata": {
        "id": "hR746ZsYwRkN",
        "outputId": "f8b9cb1c-9b38-44a9-b259-d32b7758e62d",
        "colab": {
          "base_uri": "https://localhost:8080/",
          "height": 37
        }
      },
      "outputs": [
        {
          "output_type": "display_data",
          "data": {
            "text/plain": [
              "<IPython.core.display.HTML object>"
            ],
            "text/html": [
              "\n",
              "<style>\n",
              "    /* Turns off some styling */\n",
              "    progress {\n",
              "        /* gets rid of default border in Firefox and Opera. */\n",
              "        border: none;\n",
              "        /* Needs to be in here for Safari polyfill so background images work as expected. */\n",
              "        background-size: auto;\n",
              "    }\n",
              "    progress:not([value]), progress:not([value])::-webkit-progress-bar {\n",
              "        background: repeating-linear-gradient(45deg, #7e7e7e, #7e7e7e 10px, #5c5c5c 10px, #5c5c5c 20px);\n",
              "    }\n",
              "    .progress-bar-interrupted, .progress-bar-interrupted::-webkit-progress-bar {\n",
              "        background: #F44336;\n",
              "    }\n",
              "</style>\n"
            ]
          },
          "metadata": {}
        },
        {
          "output_type": "display_data",
          "data": {
            "text/plain": [
              "<IPython.core.display.HTML object>"
            ],
            "text/html": [
              "\n",
              "    <div>\n",
              "      <progress value='99008512' class='' max='99003388' style='width:300px; height:20px; vertical-align: middle;'></progress>\n",
              "      100.01% [99008512/99003388 00:02&lt;00:00]\n",
              "    </div>\n",
              "    "
            ]
          },
          "metadata": {}
        }
      ],
      "source": [
        "path = untar_data(URLs.IMAGENETTE_160)"
      ]
    },
    {
      "cell_type": "markdown",
      "metadata": {
        "id": "lpXFuqxdwRkN"
      },
      "source": [
        "To access the image files, we can use `get_image_files`:"
      ]
    },
    {
      "cell_type": "code",
      "execution_count": 5,
      "metadata": {
        "id": "4tHS4fT3wRkN",
        "outputId": "ea63512f-604b-4de6-e66c-24c231525ea3",
        "colab": {
          "base_uri": "https://localhost:8080/"
        }
      },
      "outputs": [
        {
          "output_type": "execute_result",
          "data": {
            "text/plain": [
              "Path('/root/.fastai/data/imagenette2-160/train/n02102040/n02102040_733.JPEG')"
            ]
          },
          "metadata": {},
          "execution_count": 5
        }
      ],
      "source": [
        "t = get_image_files(path)\n",
        "t[0]"
      ]
    },
    {
      "cell_type": "markdown",
      "metadata": {
        "id": "xT5WtY5vwRkO"
      },
      "source": [
        "Or we could do the same thing using just Python's standard library, with `glob`:"
      ]
    },
    {
      "cell_type": "code",
      "execution_count": 6,
      "metadata": {
        "id": "3fWx7nYtwRkO",
        "outputId": "5eed6d0b-2747-47a4-e2b3-adfaffe6f469",
        "colab": {
          "base_uri": "https://localhost:8080/"
        }
      },
      "outputs": [
        {
          "output_type": "execute_result",
          "data": {
            "text/plain": [
              "Path('/root/.fastai/data/imagenette2-160/train/n02102040/n02102040_733.JPEG')"
            ]
          },
          "metadata": {},
          "execution_count": 6
        }
      ],
      "source": [
        "from glob import glob\n",
        "files = L(glob(f'{path}/**/*.JPEG', recursive=True)).map(Path)\n",
        "files[0]"
      ]
    },
    {
      "cell_type": "markdown",
      "metadata": {
        "id": "Bv4umUBDwRkO"
      },
      "source": [
        "If you look at the source for `get_image_files`, you'll see it uses Python's `os.walk`; this is a faster and more flexible function than `glob`, so be sure to try it out.\n",
        "\n",
        "We can open an image with the Python Imaging Library's `Image` class:"
      ]
    },
    {
      "cell_type": "code",
      "execution_count": 7,
      "metadata": {
        "id": "1dqkkzCgwRkO",
        "outputId": "c8be91a9-fe74-40dd-a67d-e5248e3ed653",
        "colab": {
          "base_uri": "https://localhost:8080/",
          "height": 177
        }
      },
      "outputs": [
        {
          "output_type": "execute_result",
          "data": {
            "text/plain": [
              "<PIL.JpegImagePlugin.JpegImageFile image mode=RGB size=213x160>"
            ],
            "image/png": "[encoded data removed]"
          },
          "metadata": {},
          "execution_count": 7
        }
      ],
      "source": [
        "im = Image.open(files[0])\n",
        "im"
      ]
    },
    {
      "cell_type": "code",
      "execution_count": 8,
      "metadata": {
        "id": "j4HS94YJwRkO",
        "outputId": "875cbe0a-5d0d-4bd2-ca60-b097519e49fe",
        "colab": {
          "base_uri": "https://localhost:8080/"
        }
      },
      "outputs": [
        {
          "output_type": "execute_result",
          "data": {
            "text/plain": [
              "torch.Size([160, 213, 3])"
            ]
          },
          "metadata": {},
          "execution_count": 8
        }
      ],
      "source": [
        "im_t = tensor(im)\n",
        "im_t.shape"
      ]
    },
    {
      "cell_type": "markdown",
      "metadata": {
        "id": "iSx83dSAwRkO"
      },
      "source": [
        "That's going to be the basis of our independent variable. For our dependent variable, we can use `Path.parent` from `pathlib`. First we'll need our vocab:"
      ]
    },
    {
      "cell_type": "code",
      "execution_count": 9,
      "metadata": {
        "id": "RXFneH79wRkO",
        "outputId": "b0c72151-030f-478f-c6b8-545c6ea02a19",
        "colab": {
          "base_uri": "https://localhost:8080/"
        }
      },
      "outputs": [
        {
          "output_type": "execute_result",
          "data": {
            "text/plain": [
              "(#10) ['n02102040','n03028079','n03417042','n03394916','n01440764','n03425413','n03445777','n02979186','n03888257','n03000684']"
            ]
          },
          "metadata": {},
          "execution_count": 9
        }
      ],
      "source": [
        "lbls = files.map(Self.parent.name()).unique(); lbls"
      ]
    },
    {
      "cell_type": "markdown",
      "metadata": {
        "id": "-J9RPfr0wRkO"
      },
      "source": [
        "...and the reverse mapping, thanks to `L.val2idx`:"
      ]
    },
    {
      "cell_type": "code",
      "execution_count": 10,
      "metadata": {
        "id": "IKGPs3clwRkP",
        "outputId": "9ce25429-6325-4b10-a31c-b9d693c24539",
        "colab": {
          "base_uri": "https://localhost:8080/"
        }
      },
      "outputs": [
        {
          "output_type": "execute_result",
          "data": {
            "text/plain": [
              "{'n02102040': 0,\n",
              " 'n03028079': 1,\n",
              " 'n03417042': 2,\n",
              " 'n03394916': 3,\n",
              " 'n01440764': 4,\n",
              " 'n03425413': 5,\n",
              " 'n03445777': 6,\n",
              " 'n02979186': 7,\n",
              " 'n03888257': 8,\n",
              " 'n03000684': 9}"
            ]
          },
          "metadata": {},
          "execution_count": 10
        }
      ],
      "source": [
        "v2i = lbls.val2idx(); v2i"
      ]
    },
    {
      "cell_type": "markdown",
      "metadata": {
        "id": "bHhnp8ZbwRkP"
      },
      "source": [
        "That's all the pieces we need to put together our `Dataset`."
      ]
    },
    {
      "cell_type": "markdown",
      "metadata": {
        "id": "8TjMHdhIwRkP"
      },
      "source": [
        "### Dataset"
      ]
    },
    {
      "cell_type": "markdown",
      "metadata": {
        "id": "9Zf5luJLwRkP"
      },
      "source": [
        "A `Dataset` in PyTorch can be anything that supports indexing (`__getitem__`) and `len`:"
      ]
    },
    {
      "cell_type": "code",
      "execution_count": 11,
      "metadata": {
        "id": "kR4lO2W_wRkP"
      },
      "outputs": [],
      "source": [
        "class Dataset:\n",
        "    def __init__(self, fns): self.fns=fns\n",
        "    def __len__(self): return len(self.fns)\n",
        "    def __getitem__(self, i):\n",
        "        im = Image.open(self.fns[i]).resize((64,64)).convert('RGB')\n",
        "        y = v2i[self.fns[i].parent.name]\n",
        "        return tensor(im).float()/255, tensor(y)"
      ]
    },
    {
      "cell_type": "markdown",
      "metadata": {
        "id": "8yyabEx_wRkP"
      },
      "source": [
        "We need a list of training and validation filenames to pass to `Dataset.__init__`:"
      ]
    },
    {
      "cell_type": "code",
      "execution_count": 12,
      "metadata": {
        "id": "t8KmchYmwRkP",
        "outputId": "c283fb5a-dc24-4033-f37e-2fe7f8943beb",
        "colab": {
          "base_uri": "https://localhost:8080/"
        }
      },
      "outputs": [
        {
          "output_type": "execute_result",
          "data": {
            "text/plain": [
              "(9469, 3925)"
            ]
          },
          "metadata": {},
          "execution_count": 12
        }
      ],
      "source": [
        "train_filt = L(o.parent.parent.name=='train' for o in files)\n",
        "train,valid = files[train_filt],files[~train_filt]\n",
        "len(train),len(valid)"
      ]
    },
    {
      "cell_type": "markdown",
      "metadata": {
        "id": "wJMaU22SwRkP"
      },
      "source": [
        "Now we can try it out:"
      ]
    },
    {
      "cell_type": "code",
      "execution_count": 13,
      "metadata": {
        "id": "lIEkiyXAwRkP",
        "outputId": "54e5ba53-0fb8-4011-9b82-f4a6921145b5",
        "colab": {
          "base_uri": "https://localhost:8080/"
        }
      },
      "outputs": [
        {
          "output_type": "execute_result",
          "data": {
            "text/plain": [
              "(torch.Size([64, 64, 3]), tensor(0))"
            ]
          },
          "metadata": {},
          "execution_count": 13
        }
      ],
      "source": [
        "train_ds,valid_ds = Dataset(train),Dataset(valid)\n",
        "x,y = train_ds[0]\n",
        "x.shape,y"
      ]
    },
    {
      "cell_type": "code",
      "execution_count": 14,
      "metadata": {
        "id": "GwH6i9XQwRkP",
        "outputId": "182e4319-9ca4-4419-8496-41e5d7c2f62c",
        "colab": {
          "base_uri": "https://localhost:8080/",
          "height": 214
        }
      },
      "outputs": [
        {
          "output_type": "display_data",
          "data": {
            "text/plain": [
              "<Figure size 200x200 with 1 Axes>"
            ],
            "image/png": "[encoded data removed]"
          },
          "metadata": {}
        }
      ],
      "source": [
        "show_image(x, title=lbls[y]);"
      ]
    },
    {
      "cell_type": "markdown",
      "metadata": {
        "id": "8gUNZKmtwRkP"
      },
      "source": [
        "As you see, our dataset is returning the independent and dependent variables as a tuple, which is just what we need. We'll need to be able to collate these into a mini-batch. Generally this is done with `torch.stack`, which is what we'll use here:"
      ]
    },
    {
      "cell_type": "code",
      "execution_count": 15,
      "metadata": {
        "id": "IjhVq3WWwRkQ"
      },
      "outputs": [],
      "source": [
        "def collate(idxs, ds):\n",
        "    xb,yb = zip(*[ds[i] for i in idxs])\n",
        "    return torch.stack(xb),torch.stack(yb)"
      ]
    },
    {
      "cell_type": "markdown",
      "metadata": {
        "id": "v7rYoe-CwRkQ"
      },
      "source": [
        "Here's a mini-batch with two items, for testing our `collate`:"
      ]
    },
    {
      "cell_type": "code",
      "execution_count": 16,
      "metadata": {
        "id": "peVZv5ndwRkQ",
        "outputId": "09098c03-14a0-43f6-97f0-7bc5559a36b3",
        "colab": {
          "base_uri": "https://localhost:8080/"
        }
      },
      "outputs": [
        {
          "output_type": "execute_result",
          "data": {
            "text/plain": [
              "(torch.Size([2, 64, 64, 3]), tensor([0, 0]))"
            ]
          },
          "metadata": {},
          "execution_count": 16
        }
      ],
      "source": [
        "x,y = collate([1,2], train_ds)\n",
        "x.shape,y"
      ]
    },
    {
      "cell_type": "markdown",
      "metadata": {
        "id": "X5JusSmswRkQ"
      },
      "source": [
        "Now that we have a dataset and a collation function, we're ready to create `DataLoader`. We'll add two more things here: an optional `shuffle` for the training set, and a `ProcessPoolExecutor` to do our preprocessing in parallel. A parallel data loader is very important, because opening and decoding a JPEG image is a slow process. One CPU core is not enough to decode images fast enough to keep a modern GPU busy. Here's our `DataLoader` class:"
      ]
    },
    {
      "cell_type": "code",
      "execution_count": 19,
      "metadata": {
        "id": "R-Lv1VClwRkQ"
      },
      "outputs": [],
      "source": [
        "class DataLoader:\n",
        "    def __init__(self, ds, bs=128, shuffle=False, n_workers=1):\n",
        "        self.ds,self.bs,self.shuffle,self.n_workers = ds,bs,shuffle,n_workers\n",
        "\n",
        "    def __len__(self): return (len(self.ds)-1)//self.bs+1\n",
        "\n",
        "    def __iter__(self):\n",
        "        idxs = L.range(self.ds)\n",
        "        if self.shuffle: idxs = idxs.shuffle()\n",
        "        chunks = [idxs[n:n+self.bs] for n in range(0, len(self.ds), self.bs)]\n",
        "        with ProcessPoolExecutor(self.n_workers) as ex:\n",
        "            yield from ex.map(collate, chunks, ds=self.ds)"
      ]
    },
    {
      "cell_type": "markdown",
      "metadata": {
        "id": "GXmHZRY2wRkQ"
      },
      "source": [
        "Let's try it out with our training and validation datasets:"
      ]
    },
    {
      "cell_type": "code",
      "execution_count": 20,
      "metadata": {
        "id": "fXyM4XgowRkQ",
        "outputId": "3b09bc56-df58-4bf7-846c-cfbbaf9ef771",
        "colab": {
          "base_uri": "https://localhost:8080/"
        }
      },
      "outputs": [
        {
          "output_type": "execute_result",
          "data": {
            "text/plain": [
              "(torch.Size([128, 64, 64, 3]), torch.Size([128]), 74)"
            ]
          },
          "metadata": {},
          "execution_count": 20
        }
      ],
      "source": [
        "n_workers = min(16, defaults.cpus)\n",
        "train_dl = DataLoader(train_ds, bs=128, shuffle=True, n_workers=n_workers)\n",
        "valid_dl = DataLoader(valid_ds, bs=256, shuffle=False, n_workers=n_workers)\n",
        "xb,yb = first(train_dl)\n",
        "xb.shape,yb.shape,len(train_dl)"
      ]
    },
    {
      "cell_type": "markdown",
      "metadata": {
        "id": "arGIPnVVwRkR"
      },
      "source": [
        "This data loader is not much slower than PyTorch's, but it's far simpler. So if you're debugging a complex data loading process, don't be afraid to try doing things manually to help you see exactly what's going on.\n",
        "\n",
        "For normalization, we'll need image statistics. Generally it's fine to calculate these on a single training mini-batch, since precision isn't needed here:"
      ]
    },
    {
      "cell_type": "code",
      "execution_count": null,
      "metadata": {
        "id": "1J6d0oP7wRkR",
        "outputId": "d86167a7-409c-458e-ddcf-92ab028e5b93"
      },
      "outputs": [
        {
          "data": {
            "text/plain": [
              "[tensor([0.4544, 0.4453, 0.4141]), tensor([0.2812, 0.2766, 0.2981])]"
            ]
          },
          "execution_count": null,
          "metadata": {},
          "output_type": "execute_result"
        }
      ],
      "source": [
        "stats = [xb.mean((0,1,2)),xb.std((0,1,2))]\n",
        "stats"
      ]
    },
    {
      "cell_type": "markdown",
      "metadata": {
        "id": "Dj52TkP0wRkR"
      },
      "source": [
        "Our `Normalize` class just needs to store these stats and apply them (to see why the `to_device` is needed, try commenting it out, and see what happens later in this notebook):"
      ]
    },
    {
      "cell_type": "code",
      "execution_count": null,
      "metadata": {
        "id": "ePGcl_gawRkd"
      },
      "outputs": [],
      "source": [
        "class Normalize:\n",
        "    def __init__(self, stats): self.stats=stats\n",
        "    def __call__(self, x):\n",
        "        if x.device != self.stats[0].device:\n",
        "            self.stats = to_device(self.stats, x.device)\n",
        "        return (x-self.stats[0])/self.stats[1]"
      ]
    },
    {
      "cell_type": "markdown",
      "metadata": {
        "id": "jCSS6AC2wRkd"
      },
      "source": [
        "We always like to test everything we build in a notebook, as soon as we build it:"
      ]
    },
    {
      "cell_type": "markdown",
      "source": [],
      "metadata": {
        "id": "C85Mwa45BZJ4"
      }
    },
    {
      "cell_type": "code",
      "execution_count": null,
      "metadata": {
        "id": "acp7pEQTwRkd"
      },
      "outputs": [],
      "source": [
        "norm = Normalize(stats)\n",
        "def tfm_x(x): return norm(x).permute() ((0,3,1,2))"
      ]
    },
    {
      "cell_type": "markdown",
      "source": [
        "The permutation is specified as (0, 3, 1, 2), which means swapping the dimensions as follows:\n",
        "\n",
        "Dimension 0 remains unchanged.\n",
        "Dimension 1 becomes the original dimension 3.\n",
        "Dimension 2 becomes the original dimension 1.\n",
        "Dimension 3 becomes the original dimension 2.\n",
        "This permutation is commonly used in PyTorch for handling image data. The dimensions are typically ordered as (batch_size, channels, height, width) in PyTorch, and this permutation might be necessary to bring the data into the correct format."
      ],
      "metadata": {
        "id": "h3QxzsESBYHv"
      }
    },
    {
      "cell_type": "code",
      "execution_count": null,
      "metadata": {
        "id": "Yd2SCS5zwRkd",
        "outputId": "d631872b-566a-4375-fc97-c273cde0e81d"
      },
      "outputs": [
        {
          "data": {
            "text/plain": [
              "(tensor([0.3732, 0.4907, 0.5633]), tensor([1.0212, 1.0311, 1.0131]))"
            ]
          },
          "execution_count": null,
          "metadata": {},
          "output_type": "execute_result"
        }
      ],
      "source": [
        "t = tfm_x(x)\n",
        "t.mean((0,2,3)),t.std((0,2,3))"
      ]
    },
    {
      "cell_type": "markdown",
      "metadata": {
        "id": "7UZA5BtQwRkd"
      },
      "source": [
        "Here `tfm_x` isn't just applying `Normalize`, but is also permuting the axis order from `NHWC` to `NCHW` (see 'chapter_convolutions' if you need a reminder of what these acronyms refer to). PIL uses `HWC` axis order, which we can't use with PyTorch, hence the need for this `permute`."
      ]
    },
    {
      "cell_type": "markdown",
      "metadata": {
        "id": "38p_uNY2wRkd"
      },
      "source": [
        "That's all we need for the data for our model. So now we need the model itself!"
      ]
    },
    {
      "cell_type": "markdown",
      "metadata": {
        "id": "upLC5KW3wRke"
      },
      "source": [
        "## Module and Parameter"
      ]
    },
    {
      "cell_type": "markdown",
      "metadata": {
        "id": "m9aOPEp-wRke"
      },
      "source": [
        "To create a model, we'll need `Module`. To create `Module`, we'll need `Parameter`, so let's start there. Recall that in 'chapter_collab' we said that the `Parameter` class \"doesn't actually add any functionality (other than automatically calling `requires_grad_` for us). It's only used as a \"marker\" to show what to include in `parameters`.\" Here's a definition which does exactly that:"
      ]
    },
    {
      "cell_type": "code",
      "execution_count": null,
      "metadata": {
        "id": "0OmI-aohwRke"
      },
      "outputs": [],
      "source": [
        "class Parameter(Tensor):\n",
        "    def __new__(self, x): return Tensor._make_subclass(Parameter, x, True)\n",
        "    def __init__(self, *args, **kwargs): self.requires_grad_()"
      ]
    },
    {
      "cell_type": "markdown",
      "metadata": {
        "id": "YinhGIuDwRke"
      },
      "source": [
        "The implementation here is a bit awkward: we have to define the special `__new__` Python method and use the internal PyTorch method `_make_subclass` because, as at the time of writing, PyTorch doesn't otherwise work correctly with this kind of subclassing or provide an officially supported API to do this. This may have been fixed by the time you read this, so look on the book's website to see if there are updated details.\n",
        "\n",
        "Our `Parameter` now behaves just like a tensor, as we wanted:"
      ]
    },
    {
      "cell_type": "code",
      "execution_count": null,
      "metadata": {
        "id": "WwoG8pJuwRke",
        "outputId": "a04a377e-1814-4515-8437-ca160b5c7c69"
      },
      "outputs": [
        {
          "data": {
            "text/plain": [
              "tensor(3., requires_grad=True)"
            ]
          },
          "execution_count": null,
          "metadata": {},
          "output_type": "execute_result"
        }
      ],
      "source": [
        "Parameter(tensor(3.))"
      ]
    },
    {
      "cell_type": "markdown",
      "metadata": {
        "id": "g9rnSWHJwRke"
      },
      "source": [
        "Now that we have this, we can define `Module`:"
      ]
    },
    {
      "cell_type": "code",
      "execution_count": null,
      "metadata": {
        "id": "gRyFVP0dwRke"
      },
      "outputs": [],
      "source": [
        "class Module:\n",
        "    def __init__(self):\n",
        "        self.hook,self.params,self.children,self._training = None,[],[],False\n",
        "\n",
        "    def register_parameters(self, *ps): self.params += ps\n",
        "    def register_modules   (self, *ms): self.children += ms\n",
        "\n",
        "    @property\n",
        "    def training(self): return self._training\n",
        "    @training.setter\n",
        "    def training(self,v):\n",
        "        self._training = v\n",
        "        for m in self.children: m.training=v\n",
        "\n",
        "    def parameters(self):\n",
        "        return self.params + sum([m.parameters() for m in self.children], [])\n",
        "\n",
        "    def __setattr__(self,k,v):\n",
        "        super().__setattr__(k,v)\n",
        "        if isinstance(v,Parameter): self.register_parameters(v)\n",
        "        if isinstance(v,Module):    self.register_modules(v)\n",
        "\n",
        "    def __call__(self, *args, **kwargs):\n",
        "        res = self.forward(*args, **kwargs)\n",
        "        if self.hook is not None: self.hook(res, args)\n",
        "        return res\n",
        "\n",
        "    def cuda(self):\n",
        "        for p in self.parameters(): p.data = p.data.cuda()"
      ]
    },
    {
      "cell_type": "markdown",
      "metadata": {
        "id": "LZl0b6V9wRke"
      },
      "source": [
        "The key functionality is in the definition of `parameters`:\n",
        "\n",
        "```python\n",
        "self.params + sum([m.parameters() for m in self.children], [])\n",
        "```\n",
        "\n",
        "This means that we can ask any `Module` for its parameters, and it will return them, including all its child modules (recursively). But how does it know what its parameters are? It's thanks to implementing Python's special `__setattr__` method, which is called for us any time Python sets an attribute on a class. Our implementation includes this line:\n",
        "\n",
        "```python\n",
        "if isinstance(v,Parameter): self.register_parameters(v)\n",
        "```\n",
        "\n",
        "As you see, this is where we use our new `Parameter` class as a \"marker\"—anything of this class is added to our `params`.\n",
        "\n",
        "Python's `__call__` allows us to define what happens when our object is treated as a function; we just call `forward` (which doesn't exist here, so it'll need to be added by subclasses). Before we do, we'll call a hook, if it's defined. Now you can see that PyTorch hooks aren't doing anything fancy at all—they're just calling any hooks that have been registered.\n",
        "\n",
        "Other than these pieces of functionality, our `Module` also provides `cuda` and `training` attributes, which we'll use shortly.\n",
        "\n",
        "Now we can create our first `Module`, which is `ConvLayer`:"
      ]
    },
    {
      "cell_type": "code",
      "execution_count": null,
      "metadata": {
        "id": "0rnQ1p2EwRkf"
      },
      "outputs": [],
      "source": [
        "class ConvLayer(Module):\n",
        "    def __init__(self, ni, nf, stride=1, bias=True, act=True):\n",
        "        super().__init__()\n",
        "        self.w = Parameter(torch.zeros(nf,ni,3,3))\n",
        "        self.b = Parameter(torch.zeros(nf)) if bias else None\n",
        "        self.act,self.stride = act,stride\n",
        "        init = nn.init.kaiming_normal_ if act else nn.init.xavier_normal_\n",
        "        init(self.w)\n",
        "\n",
        "    def forward(self, x):\n",
        "        x = F.conv2d(x, self.w, self.b, stride=self.stride, padding=1)\n",
        "        if self.act: x = F.relu(x)\n",
        "        return x"
      ]
    },
    {
      "cell_type": "markdown",
      "metadata": {
        "id": "KI7ADCcZwRkf"
      },
      "source": [
        "We're not implementing `F.conv2d` from scratch, since you should have already done that (using `unfold`) in the questionnaire in 'chapter_foundations'. Instead, we're just creating a small class that wraps it up along with bias and weight initialization. Let's check that it works correctly with `Module.parameters`:"
      ]
    },
    {
      "cell_type": "code",
      "execution_count": null,
      "metadata": {
        "id": "RnxwUB9EwRkf",
        "outputId": "23a37588-95ed-48d3-e6f6-e7d2816c8007"
      },
      "outputs": [
        {
          "data": {
            "text/plain": [
              "2"
            ]
          },
          "execution_count": null,
          "metadata": {},
          "output_type": "execute_result"
        }
      ],
      "source": [
        "l = ConvLayer(3, 4)\n",
        "len(l.parameters())"
      ]
    },
    {
      "cell_type": "markdown",
      "metadata": {
        "id": "RH8Ucm5FwRkf"
      },
      "source": [
        "And that we can call it (which will result in `forward` being called):"
      ]
    },
    {
      "cell_type": "code",
      "execution_count": null,
      "metadata": {
        "id": "OUTejbVXwRkf",
        "outputId": "9d818c5b-40e3-46cc-a334-3538ac1af44e"
      },
      "outputs": [
        {
          "data": {
            "text/plain": [
              "torch.Size([128, 4, 64, 64])"
            ]
          },
          "execution_count": null,
          "metadata": {},
          "output_type": "execute_result"
        }
      ],
      "source": [
        "xbt = tfm_x(xb)\n",
        "r = l(xbt)\n",
        "r.shape"
      ]
    },
    {
      "cell_type": "markdown",
      "metadata": {
        "id": "4t0BtWsowRkf"
      },
      "source": [
        "In the same way, we can implement `Linear`:"
      ]
    },
    {
      "cell_type": "code",
      "execution_count": null,
      "metadata": {
        "id": "_WcGiKi_wRkf"
      },
      "outputs": [],
      "source": [
        "class Linear(Module):\n",
        "    def __init__(self, ni, nf):\n",
        "        super().__init__()\n",
        "        self.w = Parameter(torch.zeros(nf,ni))\n",
        "        self.b = Parameter(torch.zeros(nf))\n",
        "        nn.init.xavier_normal_(self.w)\n",
        "\n",
        "    def forward(self, x): return x@self.w.t() + self.b"
      ]
    },
    {
      "cell_type": "markdown",
      "metadata": {
        "id": "rXlZ4CqAwRkf"
      },
      "source": [
        "and test if it works:"
      ]
    },
    {
      "cell_type": "code",
      "execution_count": null,
      "metadata": {
        "id": "VQZalSVEwRkg",
        "outputId": "e7aa1944-7f22-46e5-fc23-c9274cd46d7b"
      },
      "outputs": [
        {
          "data": {
            "text/plain": [
              "torch.Size([3, 2])"
            ]
          },
          "execution_count": null,
          "metadata": {},
          "output_type": "execute_result"
        }
      ],
      "source": [
        "l = Linear(4,2)\n",
        "r = l(torch.ones(3,4))\n",
        "r.shape"
      ]
    },
    {
      "cell_type": "markdown",
      "metadata": {
        "id": "QeCZzMKjwRkg"
      },
      "source": [
        "Let's also create a testing module to check that if we include multiple parameters as attributes, they are all correctly registered:"
      ]
    },
    {
      "cell_type": "code",
      "execution_count": null,
      "metadata": {
        "id": "j3cuJHJfwRkg"
      },
      "outputs": [],
      "source": [
        "class T(Module):\n",
        "    def __init__(self):\n",
        "        super().__init__()\n",
        "        self.c,self.l = ConvLayer(3,4),Linear(4,2)"
      ]
    },
    {
      "cell_type": "markdown",
      "metadata": {
        "id": "n962TygQwRkg"
      },
      "source": [
        "Since we have a conv layer and a linear layer, each of which has weights and biases, we'd expect four parameters in total:"
      ]
    },
    {
      "cell_type": "code",
      "execution_count": null,
      "metadata": {
        "id": "kqyWxasuwRkg",
        "outputId": "631e50dc-143f-47ae-9fdd-0ee4f1c6d74b"
      },
      "outputs": [
        {
          "data": {
            "text/plain": [
              "4"
            ]
          },
          "execution_count": null,
          "metadata": {},
          "output_type": "execute_result"
        }
      ],
      "source": [
        "t = T()\n",
        "len(t.parameters())"
      ]
    },
    {
      "cell_type": "markdown",
      "metadata": {
        "id": "-nu1YMfBwRkg"
      },
      "source": [
        "We should also find that calling `cuda` on this class puts all these parameters on the GPU:"
      ]
    },
    {
      "cell_type": "code",
      "execution_count": null,
      "metadata": {
        "id": "40-SABzAwRkg",
        "outputId": "33435154-ae30-4cbd-be3f-b2c2a3251ee4"
      },
      "outputs": [
        {
          "data": {
            "text/plain": [
              "device(type='cuda', index=5)"
            ]
          },
          "execution_count": null,
          "metadata": {},
          "output_type": "execute_result"
        }
      ],
      "source": [
        "t.cuda()\n",
        "t.l.w.device"
      ]
    },
    {
      "cell_type": "markdown",
      "metadata": {
        "id": "T3bUCYoRwRkg"
      },
      "source": [
        "We can now use those pieces to create a CNN."
      ]
    },
    {
      "cell_type": "markdown",
      "metadata": {
        "id": "rEk3CDQlwRkg"
      },
      "source": [
        "### Simple CNN"
      ]
    },
    {
      "cell_type": "markdown",
      "metadata": {
        "id": "pSQeGZS8wRkg"
      },
      "source": [
        "As we've seen, a `Sequential` class makes many architectures easier to implement, so let's make one:"
      ]
    },
    {
      "cell_type": "code",
      "execution_count": null,
      "metadata": {
        "id": "90WZM_-jwRkh"
      },
      "outputs": [],
      "source": [
        "class Sequential(Module):\n",
        "    def __init__(self, *layers):\n",
        "        super().__init__()\n",
        "        self.layers = layers\n",
        "        self.register_modules(*layers)\n",
        "\n",
        "    def forward(self, x):\n",
        "        for l in self.layers: x = l(x)\n",
        "        return x"
      ]
    },
    {
      "cell_type": "markdown",
      "metadata": {
        "id": "NqaWVCcpwRkh"
      },
      "source": [
        "The `forward` method here just calls each layer in turn. Note that we have to use the `register_modules` method we defined in `Module`, since otherwise the contents of `layers` won't appear in `parameters`."
      ]
    },
    {
      "cell_type": "markdown",
      "metadata": {
        "id": "kC9PcS4iwRkh"
      },
      "source": [
        "> important: All The Code is Here: Remember that we're not using any PyTorch functionality for modules here; we're defining everything ourselves. So if you're not sure what `register_modules` does, or why it's needed, have another look at our code for `Module` to see what we wrote!"
      ]
    },
    {
      "cell_type": "markdown",
      "metadata": {
        "id": "NSdwT1N9wRkh"
      },
      "source": [
        "We can create a simplified `AdaptivePool` that only handles pooling to a 1×1 output, and flattens it as well, by just using `mean`:"
      ]
    },
    {
      "cell_type": "code",
      "execution_count": null,
      "metadata": {
        "id": "ninXbR-5wRkh"
      },
      "outputs": [],
      "source": [
        "class AdaptivePool(Module):\n",
        "    def forward(self, x): return x.mean((2,3))"
      ]
    },
    {
      "cell_type": "markdown",
      "metadata": {
        "id": "v8tOv_ZuwRkh"
      },
      "source": [
        "That's enough for us to create a CNN!"
      ]
    },
    {
      "cell_type": "code",
      "execution_count": null,
      "metadata": {
        "id": "HwnZJ1wowRkh"
      },
      "outputs": [],
      "source": [
        "def simple_cnn():\n",
        "    return Sequential(\n",
        "        ConvLayer(3 ,16 ,stride=2), #32\n",
        "        ConvLayer(16,32 ,stride=2), #16\n",
        "        ConvLayer(32,64 ,stride=2), # 8\n",
        "        ConvLayer(64,128,stride=2), # 4\n",
        "        AdaptivePool(),\n",
        "        Linear(128, 10)\n",
        "    )"
      ]
    },
    {
      "cell_type": "markdown",
      "metadata": {
        "id": "FEIrwlREwRkh"
      },
      "source": [
        "Let's see if our parameters are all being registered correctly:"
      ]
    },
    {
      "cell_type": "code",
      "execution_count": null,
      "metadata": {
        "id": "GOOAy9OHwRkh",
        "outputId": "93cf4faa-0b74-4e95-d0fa-48b07e4c9463"
      },
      "outputs": [
        {
          "data": {
            "text/plain": [
              "10"
            ]
          },
          "execution_count": null,
          "metadata": {},
          "output_type": "execute_result"
        }
      ],
      "source": [
        "m = simple_cnn()\n",
        "len(m.parameters())"
      ]
    },
    {
      "cell_type": "markdown",
      "metadata": {
        "id": "C9FSCLLpwRki"
      },
      "source": [
        "Now we can try adding a hook. Note that we've only left room for one hook in `Module`; you could make it a list, or use something like `Pipeline` to run a few as a single function:"
      ]
    },
    {
      "cell_type": "code",
      "execution_count": null,
      "metadata": {
        "id": "zmDhAH6lwRki",
        "outputId": "e659baa5-088a-4532-eee9-d95ac19d800b"
      },
      "outputs": [
        {
          "name": "stdout",
          "output_type": "stream",
          "text": [
            "0.5239089727401733 0.8776043057441711\n",
            "0.43470510840415955 0.8347987532615662\n",
            "0.4357188045978546 0.7621666193008423\n",
            "0.46562111377716064 0.7416611313819885\n"
          ]
        },
        {
          "data": {
            "text/plain": [
              "torch.Size([128, 10])"
            ]
          },
          "execution_count": null,
          "metadata": {},
          "output_type": "execute_result"
        }
      ],
      "source": [
        "def print_stats(outp, inp): print (outp.mean().item(),outp.std().item())\n",
        "for i in range(4): m.layers[i].hook = print_stats\n",
        "\n",
        "r = m(xbt)\n",
        "r.shape"
      ]
    },
    {
      "cell_type": "markdown",
      "metadata": {
        "id": "7uZAWZM8wRki"
      },
      "source": [
        "We have data and model. Now we need a loss function."
      ]
    },
    {
      "cell_type": "markdown",
      "metadata": {
        "id": "mxqXm-3YwRki"
      },
      "source": [
        "## Loss"
      ]
    },
    {
      "cell_type": "markdown",
      "metadata": {
        "id": "g8imxgTywRki"
      },
      "source": [
        "We've already seen how to define \"negative log likelihood\":"
      ]
    },
    {
      "cell_type": "code",
      "execution_count": null,
      "metadata": {
        "id": "uLSvBqbEwRki"
      },
      "outputs": [],
      "source": [
        "def nll(input, target): return -input[range(target.shape[0]), target].mean()"
      ]
    },
    {
      "cell_type": "markdown",
      "metadata": {
        "id": "mu4MDscQwRki"
      },
      "source": [
        "Well actually, there's no log here, since we're using the same definition as PyTorch. That means we need to put the log together with softmax:"
      ]
    },
    {
      "cell_type": "code",
      "execution_count": null,
      "metadata": {
        "id": "KYmgNBaJwRki",
        "outputId": "7732a264-e01e-4213-e625-b86254c402bb"
      },
      "outputs": [
        {
          "data": {
            "text/plain": [
              "tensor(-1.2790, grad_fn=<SelectBackward>)"
            ]
          },
          "execution_count": null,
          "metadata": {},
          "output_type": "execute_result"
        }
      ],
      "source": [
        "def log_softmax(x): return (x.exp()/(x.exp().sum(-1,keepdim=True))).log()\n",
        "\n",
        "sm = log_softmax(r); sm[0][0]"
      ]
    },
    {
      "cell_type": "markdown",
      "metadata": {
        "id": "2X1Op6BiwRki"
      },
      "source": [
        "Combining these gives us our cross-entropy loss:"
      ]
    },
    {
      "cell_type": "code",
      "execution_count": null,
      "metadata": {
        "id": "OeFdgQOiwRkj",
        "outputId": "541ae980-1e0a-4e99-a3c6-f30a6fadcc70"
      },
      "outputs": [
        {
          "data": {
            "text/plain": [
              "tensor(2.5666, grad_fn=<NegBackward>)"
            ]
          },
          "execution_count": null,
          "metadata": {},
          "output_type": "execute_result"
        }
      ],
      "source": [
        "loss = nll(sm, yb)\n",
        "loss"
      ]
    },
    {
      "cell_type": "markdown",
      "metadata": {
        "id": "NLMFmYgywRkj"
      },
      "source": [
        "Note that the formula:\n",
        "\n",
        "$$\\log \\left ( \\frac{a}{b} \\right ) = \\log(a) - \\log(b)$$\n",
        "\n",
        "gives a simplification when we compute the log softmax, which was previously defined as `(x.exp()/(x.exp().sum(-1))).log()`:"
      ]
    },
    {
      "cell_type": "code",
      "execution_count": null,
      "metadata": {
        "id": "zWdFQ44wwRkj",
        "outputId": "1e22859b-cf9e-43f9-93fb-2446ae59a473"
      },
      "outputs": [
        {
          "data": {
            "text/plain": [
              "tensor(-1.2790, grad_fn=<SelectBackward>)"
            ]
          },
          "execution_count": null,
          "metadata": {},
          "output_type": "execute_result"
        }
      ],
      "source": [
        "def log_softmax(x): return x - x.exp().sum(-1,keepdim=True).log()\n",
        "sm = log_softmax(r); sm[0][0]"
      ]
    },
    {
      "cell_type": "markdown",
      "metadata": {
        "id": "vOOPF0LFwRkj"
      },
      "source": [
        "Then, there is a more stable way to compute the log of the sum of exponentials, called the [LogSumExp](https://en.wikipedia.org/wiki/LogSumExp) trick. The idea is to use the following formula:\n",
        "\n",
        "$$\\log \\left ( \\sum_{j=1}^{n} e^{x_{j}} \\right ) = \\log \\left ( e^{a} \\sum_{j=1}^{n} e^{x_{j}-a} \\right ) = a + \\log \\left ( \\sum_{j=1}^{n} e^{x_{j}-a} \\right )$$\n",
        "\n",
        "where $a$ is the maximum of $x_{j}$.\n",
        "\n",
        "\n",
        "Here's the same thing in code:"
      ]
    },
    {
      "cell_type": "code",
      "execution_count": null,
      "metadata": {
        "id": "13f2pwt9wRkj",
        "outputId": "bebfe015-9c2e-422d-9a9e-809c1f7c4ccb"
      },
      "outputs": [
        {
          "data": {
            "text/plain": [
              "tensor(True)"
            ]
          },
          "execution_count": null,
          "metadata": {},
          "output_type": "execute_result"
        }
      ],
      "source": [
        "x = torch.rand(5)\n",
        "a = x.max()\n",
        "x.exp().sum().log() == a + (x-a).exp().sum().log()"
      ]
    },
    {
      "cell_type": "markdown",
      "metadata": {
        "id": "ATp5iQMPwRkj"
      },
      "source": [
        "We'll put that into a function:"
      ]
    },
    {
      "cell_type": "code",
      "execution_count": null,
      "metadata": {
        "id": "TesAo6ikwRkj",
        "outputId": "6d244f89-05ec-4915-c741-0ee2d92b76f3"
      },
      "outputs": [
        {
          "data": {
            "text/plain": [
              "tensor(3.9784, grad_fn=<SelectBackward>)"
            ]
          },
          "execution_count": null,
          "metadata": {},
          "output_type": "execute_result"
        }
      ],
      "source": [
        "def logsumexp(x):\n",
        "    m = x.max(-1)[0]\n",
        "    return m + (x-m[:,None]).exp().sum(-1).log()\n",
        "\n",
        "logsumexp(r)[0]"
      ]
    },
    {
      "cell_type": "markdown",
      "metadata": {
        "id": "xGqyOr7jwRkj"
      },
      "source": [
        "so we can use it for our `log_softmax` function:"
      ]
    },
    {
      "cell_type": "code",
      "execution_count": null,
      "metadata": {
        "id": "hPo-VqWRwRkj"
      },
      "outputs": [],
      "source": [
        "def log_softmax(x): return x - x.logsumexp(-1,keepdim=True)"
      ]
    },
    {
      "cell_type": "markdown",
      "metadata": {
        "id": "HHDWnwVHwRkj"
      },
      "source": [
        "Which gives the same result as before:"
      ]
    },
    {
      "cell_type": "code",
      "execution_count": null,
      "metadata": {
        "id": "48jxhLnIwRkk",
        "outputId": "8dcc26e6-ca6d-49a3-a01a-340a18e98fb5"
      },
      "outputs": [
        {
          "data": {
            "text/plain": [
              "tensor(-1.2790, grad_fn=<SelectBackward>)"
            ]
          },
          "execution_count": null,
          "metadata": {},
          "output_type": "execute_result"
        }
      ],
      "source": [
        "sm = log_softmax(r); sm[0][0]"
      ]
    },
    {
      "cell_type": "markdown",
      "metadata": {
        "id": "qAZSwmf4wRkk"
      },
      "source": [
        "We can use these to create `cross_entropy`:"
      ]
    },
    {
      "cell_type": "code",
      "execution_count": null,
      "metadata": {
        "id": "jCzyseDvwRkk"
      },
      "outputs": [],
      "source": [
        "def cross_entropy(preds, yb): return nll(log_softmax(preds), yb).mean()"
      ]
    },
    {
      "cell_type": "markdown",
      "metadata": {
        "id": "ZM5VABnOwRkk"
      },
      "source": [
        "Let's now combine all those pieces together to create a `Learner`."
      ]
    },
    {
      "cell_type": "markdown",
      "metadata": {
        "id": "T9B-wT5uwRkk"
      },
      "source": [
        "## Learner"
      ]
    },
    {
      "cell_type": "markdown",
      "metadata": {
        "id": "pOPnVwapwRkk"
      },
      "source": [
        "We have data, a model, and a loss function; we only need one more thing before we can fit a model, and that's an optimizer! Here's SGD:"
      ]
    },
    {
      "cell_type": "code",
      "execution_count": null,
      "metadata": {
        "id": "8KQstR1GwRkk"
      },
      "outputs": [],
      "source": [
        "class SGD:\n",
        "    def __init__(self, params, lr, wd=0.): store_attr()\n",
        "    def step(self):\n",
        "        for p in self.params:\n",
        "            p.data -= (p.grad.data + p.data*self.wd) * self.lr\n",
        "            p.grad.data.zero_()"
      ]
    },
    {
      "cell_type": "markdown",
      "metadata": {
        "id": "3WddyhCmwRkk"
      },
      "source": [
        "As we've seen in this book, life is easier with a `Learner`. The `Learner` class needs to know our training and validation sets, which means we need `DataLoaders` to store them. We don't need any other functionality, just a place to store them and access them:"
      ]
    },
    {
      "cell_type": "code",
      "execution_count": null,
      "metadata": {
        "id": "xEFgacJ1wRkk"
      },
      "outputs": [],
      "source": [
        "class DataLoaders:\n",
        "    def __init__(self, *dls): self.train,self.valid = dls\n",
        "\n",
        "dls = DataLoaders(train_dl,valid_dl)"
      ]
    },
    {
      "cell_type": "markdown",
      "metadata": {
        "id": "pOVt3LFCwRkl"
      },
      "source": [
        "Now we're ready to create our `Learner` class:"
      ]
    },
    {
      "cell_type": "code",
      "execution_count": null,
      "metadata": {
        "id": "TNAVZsg3wRkl"
      },
      "outputs": [],
      "source": [
        "class Learner:\n",
        "    def __init__(self, model, dls, loss_func, lr, cbs, opt_func=SGD):\n",
        "        store_attr()\n",
        "        for cb in cbs: cb.learner = self\n",
        "\n",
        "    def one_batch(self):\n",
        "        self('before_batch')\n",
        "        xb,yb = self.batch\n",
        "        self.preds = self.model(xb)\n",
        "        self.loss = self.loss_func(self.preds, yb)\n",
        "        if self.model.training:\n",
        "            self.loss.backward()\n",
        "            self.opt.step()\n",
        "        self('after_batch')\n",
        "\n",
        "    def one_epoch(self, train):\n",
        "        self.model.training = train\n",
        "        self('before_epoch')\n",
        "        dl = self.dls.train if train else self.dls.valid\n",
        "        for self.num,self.batch in enumerate(progress_bar(dl, leave=False)):\n",
        "            self.one_batch()\n",
        "        self('after_epoch')\n",
        "\n",
        "    def fit(self, n_epochs):\n",
        "        self('before_fit')\n",
        "        self.opt = self.opt_func(self.model.parameters(), self.lr)\n",
        "        self.n_epochs = n_epochs\n",
        "        try:\n",
        "            for self.epoch in range(n_epochs):\n",
        "                self.one_epoch(True)\n",
        "                self.one_epoch(False)\n",
        "        except CancelFitException: pass\n",
        "        self('after_fit')\n",
        "\n",
        "    def __call__(self,name):\n",
        "        for cb in self.cbs: getattr(cb,name,noop)()"
      ]
    },
    {
      "cell_type": "code",
      "source": [
        "getattr??\n"
      ],
      "metadata": {
        "id": "4DMIorgAIc-i"
      },
      "execution_count": 24,
      "outputs": []
    },
    {
      "cell_type": "markdown",
      "metadata": {
        "id": "ZSWwe060wRkl"
      },
      "source": [
        "This is the largest class we've created in the book, but each method is quite small, so by looking at each in turn you should be able to follow what's going on.\n",
        "\n",
        "The main method we'll be calling is `fit`. This loops with:\n",
        "\n",
        "```python\n",
        "for self.epoch in range(n_epochs)\n",
        "```\n",
        "\n",
        "and at each epoch calls `self.one_epoch` for each of `train=True` and then `train=False`. Then `self.one_epoch` calls `self.one_batch` for each batch in `dls.train` or `dls.valid`, as appropriate (after wrapping the `DataLoader` in `fastprogress.progress_bar`. Finally, `self.one_batch` follows the usual set of steps to fit one mini-batch that we've seen throughout this book.\n",
        "\n",
        "Before and after each step, `Learner` calls `self`, which calls `__call__` (which is standard Python functionality). `__call__` uses `getattr(cb,name)` on each callback in `self.cbs`, which is a Python built-in function that returns the attribute (a method, in this case) with the requested name. So, for instance, `self('before_fit')` will call `cb.before_fit()` for each callback where that method is defined.\n",
        "\n",
        "As you can see, `Learner` is really just using our standard training loop, except that it's also calling callbacks at appropriate times. So let's define some callbacks!"
      ]
    },
    {
      "cell_type": "markdown",
      "metadata": {
        "id": "3m7LsNZHwRkl"
      },
      "source": [
        "### Callbacks"
      ]
    },
    {
      "cell_type": "markdown",
      "metadata": {
        "id": "zVOU78E7wRkl"
      },
      "source": [
        "In `Learner.__init__` we have:\n",
        "\n",
        "```python\n",
        "for cb in cbs: cb.learner = self\n",
        "```\n",
        "\n",
        "In other words, every callback knows what learner it is used in. This is critical, since otherwise a callback can't get information from the learner, or change things in the learner. Because getting information from the learner is so common, we make that easier by defining `Callback` as a subclass of `GetAttr`, with a default attribute of `learner`:"
      ]
    },
    {
      "cell_type": "code",
      "execution_count": null,
      "metadata": {
        "id": "4NVl9LySwRkl"
      },
      "outputs": [],
      "source": [
        "class Callback(GetAttr): _default='learner'"
      ]
    },
    {
      "cell_type": "markdown",
      "metadata": {
        "id": "yKdyE_VAwRkl"
      },
      "source": [
        "`GetAttr` is a fastai class that implements Python's standard `__getattr__` and `__dir__` methods for you, such that any time you try to access an attribute that doesn't exist, it passes the request along to whatever you have defined as `_default`."
      ]
    },
    {
      "cell_type": "markdown",
      "metadata": {
        "id": "xm9AOOBpwRkl"
      },
      "source": [
        "For instance, we want to move all model parameters to the GPU automatically at the start of `fit`. We could do this by defining `before_fit` as `self.learner.model.cuda()`; however, because `learner` is the default attribute, and we have `SetupLearnerCB` inherit from `Callback` (which inherits from `GetAttr`), we can remove the `.learner` and just call `self.model.cuda()`:"
      ]
    },
    {
      "cell_type": "code",
      "execution_count": null,
      "metadata": {
        "id": "Sca633kCwRkl"
      },
      "outputs": [],
      "source": [
        "class SetupLearnerCB(Callback):\n",
        "    def before_batch(self):\n",
        "        xb,yb = to_device(self.batch)\n",
        "        self.learner.batch = tfm_x(xb),yb\n",
        "\n",
        "    def before_fit(self): self.model.cuda()"
      ]
    },
    {
      "cell_type": "markdown",
      "metadata": {
        "id": "xqBSYvndwRkl"
      },
      "source": [
        "In `SetupLearnerCB` we also move each mini-batch to the GPU, by calling `to_device(self.batch)` (we could also have used the longer `to_device(self.learner.batch)`. Note however that in the line `self.learner.batch = tfm_x(xb),yb` we can't remove `.learner`, because here we're *setting* the attribute, not getting it.\n",
        "\n",
        "Before we try our `Learner` out, let's create a callback to track and print progress. Otherwise we won't really know if it's working properly:"
      ]
    },
    {
      "cell_type": "code",
      "execution_count": null,
      "metadata": {
        "id": "6Le4KsdbwRkm"
      },
      "outputs": [],
      "source": [
        "class TrackResults(Callback):\n",
        "    def before_epoch(self): self.accs,self.losses,self.ns = [],[],[]\n",
        "\n",
        "    def after_epoch(self):\n",
        "        n = sum(self.ns)\n",
        "        print(self.epoch, self.model.training,\n",
        "              sum(self.losses).item()/n, sum(self.accs).item()/n)\n",
        "\n",
        "    def after_batch(self):\n",
        "        xb,yb = self.batch\n",
        "        acc = (self.preds.argmax(dim=1)==yb).float().sum()\n",
        "        self.accs.append(acc)\n",
        "        n = len(xb)\n",
        "        self.losses.append(self.loss*n)\n",
        "        self.ns.append(n)"
      ]
    },
    {
      "cell_type": "markdown",
      "metadata": {
        "id": "MfUksw4dwRkm"
      },
      "source": [
        "Now we're ready to use our `Learner` for the first time!"
      ]
    },
    {
      "cell_type": "code",
      "execution_count": null,
      "metadata": {
        "id": "f1PxbLWywRkm",
        "outputId": "76f6e647-1e00-4983-9c1c-e77a36795bce"
      },
      "outputs": [
        {
          "data": {
            "text/html": [],
            "text/plain": [
              "<IPython.core.display.HTML object>"
            ]
          },
          "metadata": {},
          "output_type": "display_data"
        },
        {
          "name": "stdout",
          "output_type": "stream",
          "text": [
            "0 True 2.1275552130636814 0.2314922378287042\n"
          ]
        },
        {
          "data": {
            "text/html": [],
            "text/plain": [
              "<IPython.core.display.HTML object>"
            ]
          },
          "metadata": {},
          "output_type": "display_data"
        },
        {
          "name": "stdout",
          "output_type": "stream",
          "text": [
            "0 False 1.9942575636942674 0.2991082802547771\n"
          ]
        }
      ],
      "source": [
        "cbs = [SetupLearnerCB(),TrackResults()]\n",
        "learn = Learner(simple_cnn(), dls, cross_entropy, lr=0.1, cbs=cbs)\n",
        "learn.fit(1)"
      ]
    },
    {
      "cell_type": "markdown",
      "metadata": {
        "id": "1dZFSLKYwRkm"
      },
      "source": [
        "It's quite amazing to realize that we can implement all the key ideas from fastai's `Learner` in so little code! Let's now add some learning rate scheduling."
      ]
    },
    {
      "cell_type": "markdown",
      "metadata": {
        "id": "68Ioq43vwRkm"
      },
      "source": [
        "### Scheduling the Learning Rate"
      ]
    },
    {
      "cell_type": "markdown",
      "metadata": {
        "id": "_H-wcGdtwRkm"
      },
      "source": [
        "If we're going to get good results, we'll want an LR finder and 1cycle training. These are both *annealing* callbacks—that is, they are gradually changing hyperparameters as we train. Here's `LRFinder`:"
      ]
    },
    {
      "cell_type": "code",
      "execution_count": null,
      "metadata": {
        "id": "F_hW6l7JwRkn"
      },
      "outputs": [],
      "source": [
        "class LRFinder(Callback):\n",
        "    def before_fit(self):\n",
        "        self.losses,self.lrs = [],[]\n",
        "        self.learner.lr = 1e-6\n",
        "\n",
        "    def before_batch(self):\n",
        "        if not self.model.training: return\n",
        "        self.opt.lr *= 1.2\n",
        "\n",
        "    def after_batch(self):\n",
        "        if not self.model.training: return\n",
        "        if self.opt.lr>10 or torch.isnan(self.loss): raise CancelFitException\n",
        "        self.losses.append(self.loss.item())\n",
        "        self.lrs.append(self.opt.lr)"
      ]
    },
    {
      "cell_type": "markdown",
      "metadata": {
        "id": "K7dWeJQuwRkn"
      },
      "source": [
        "This shows how we're using `CancelFitException`, which is itself an empty class, only used to signify the type of exception. You can see in `Learner` that this exception is caught. (You should add and test `CancelBatchException`, `CancelEpochException`, etc. yourself.) Let's try it out, by adding it to our list of callbacks:"
      ]
    },
    {
      "cell_type": "code",
      "execution_count": null,
      "metadata": {
        "id": "wwNv-kFBwRkn",
        "outputId": "713a5c9d-5acf-4ac0-82a8-4e1000f6529c"
      },
      "outputs": [
        {
          "data": {
            "text/html": [],
            "text/plain": [
              "<IPython.core.display.HTML object>"
            ]
          },
          "metadata": {},
          "output_type": "display_data"
        },
        {
          "name": "stdout",
          "output_type": "stream",
          "text": [
            "0 True 2.6336045582954903 0.11014890695955222\n"
          ]
        },
        {
          "data": {
            "text/html": [],
            "text/plain": [
              "<IPython.core.display.HTML object>"
            ]
          },
          "metadata": {},
          "output_type": "display_data"
        },
        {
          "name": "stdout",
          "output_type": "stream",
          "text": [
            "0 False 2.230653363853503 0.18318471337579617\n"
          ]
        },
        {
          "data": {
            "text/html": [
              "\n",
              "    <div>\n",
              "        <style>\n",
              "            /* Turns off some styling */\n",
              "            progress {\n",
              "                /* gets rid of default border in Firefox and Opera. */\n",
              "                border: none;\n",
              "                /* Needs to be in here for Safari polyfill so background images work as expected. */\n",
              "                background-size: auto;\n",
              "            }\n",
              "            .progress-bar-interrupted, .progress-bar-interrupted::-webkit-progress-bar {\n",
              "                background: #F44336;\n",
              "            }\n",
              "        </style>\n",
              "      <progress value='12' class='' max='74', style='width:300px; height:20px; vertical-align: middle;'></progress>\n",
              "      16.22% [12/74 00:02<00:12]\n",
              "    </div>\n",
              "    "
            ],
            "text/plain": [
              "<IPython.core.display.HTML object>"
            ]
          },
          "metadata": {},
          "output_type": "display_data"
        }
      ],
      "source": [
        "lrfind = LRFinder()\n",
        "learn = Learner(simple_cnn(), dls, cross_entropy, lr=0.1, cbs=cbs+[lrfind])\n",
        "learn.fit(2)"
      ]
    },
    {
      "cell_type": "markdown",
      "metadata": {
        "id": "2hlqEOzewRkn"
      },
      "source": [
        "And take a look at the results:"
      ]
    },
    {
      "cell_type": "code",
      "execution_count": null,
      "metadata": {
        "id": "ywdDSw9uwRkn",
        "outputId": "e70085cd-2aa6-448e-f9e0-05da27c5f3a8"
      },
      "outputs": [
        {
          "data": {
            "image/png": "[encoded data removed]",
            "text/plain": [
              "<Figure size 432x288 with 1 Axes>"
            ]
          },
          "metadata": {
            "needs_background": "light"
          },
          "output_type": "display_data"
        }
      ],
      "source": [
        "plt.plot(lrfind.lrs[:-2],lrfind.losses[:-2])\n",
        "plt.xscale('log')"
      ]
    },
    {
      "cell_type": "markdown",
      "metadata": {
        "id": "ypDmjBj3wRkn"
      },
      "source": [
        "Now we can define our `OneCycle` training callback:"
      ]
    },
    {
      "cell_type": "code",
      "execution_count": null,
      "metadata": {
        "id": "Vro45H46wRko"
      },
      "outputs": [],
      "source": [
        "class OneCycle(Callback):\n",
        "    def __init__(self, base_lr): self.base_lr = base_lr\n",
        "    def before_fit(self): self.lrs = []\n",
        "\n",
        "    def before_batch(self):\n",
        "        if not self.model.training: return\n",
        "        n = len(self.dls.train)\n",
        "        bn = self.epoch*n + self.num\n",
        "        mn = self.n_epochs*n\n",
        "        pct = bn/mn\n",
        "        pct_start,div_start = 0.25,10\n",
        "        if pct<pct_start:\n",
        "            pct /= pct_start\n",
        "            lr = (1-pct)*self.base_lr/div_start + pct*self.base_lr\n",
        "        else:\n",
        "            pct = (pct-pct_start)/(1-pct_start)\n",
        "            lr = (1-pct)*self.base_lr\n",
        "        self.opt.lr = lr\n",
        "        self.lrs.append(lr)"
      ]
    },
    {
      "cell_type": "markdown",
      "metadata": {
        "id": "-e3IzqRYwRko"
      },
      "source": [
        "We'll try an LR of 0.1:"
      ]
    },
    {
      "cell_type": "code",
      "execution_count": null,
      "metadata": {
        "id": "MDO9_I4pwRko"
      },
      "outputs": [],
      "source": [
        "onecyc = OneCycle(0.1)\n",
        "learn = Learner(simple_cnn(), dls, cross_entropy, lr=0.1, cbs=cbs+[onecyc])"
      ]
    },
    {
      "cell_type": "markdown",
      "metadata": {
        "id": "lWG6tzJZwRko"
      },
      "source": [
        "Let's fit for a while and see how it looks (we won't show all the output in the book—try it in the notebook to see the results):"
      ]
    },
    {
      "cell_type": "code",
      "execution_count": null,
      "metadata": {
        "id": "EvTGpaQvwRko"
      },
      "outputs": [],
      "source": [
        "#hide_output\n",
        "learn.fit(8)"
      ]
    },
    {
      "cell_type": "markdown",
      "metadata": {
        "id": "XYcpgEnEwRko"
      },
      "source": [
        "Finally, we'll check that the learning rate followed the schedule we defined (as you see, we're not using cosine annealing here):"
      ]
    },
    {
      "cell_type": "code",
      "execution_count": null,
      "metadata": {
        "id": "fp_hUNArwRkt",
        "outputId": "4f161325-9f7c-4b5f-eed8-d1953d61ddbb"
      },
      "outputs": [
        {
          "data": {
            "image/png": "[encoded data removed]",
            "text/plain": [
              "<Figure size 432x288 with 1 Axes>"
            ]
          },
          "metadata": {
            "needs_background": "light"
          },
          "output_type": "display_data"
        }
      ],
      "source": [
        "plt.plot(onecyc.lrs);"
      ]
    },
    {
      "cell_type": "markdown",
      "metadata": {
        "id": "BmuQi8wCwRkt"
      },
      "source": [
        "## Conclusion"
      ]
    },
    {
      "cell_type": "markdown",
      "metadata": {
        "id": "tbckSdCowRkt"
      },
      "source": [
        "We have explored how the key concepts of the fastai library are implemented by re-implementing them in this chapter. Since it's mostly full of code, you should definitely try to experiment with it by looking at the corresponding notebook on the book's website. Now that you know how it's built, as a next step be sure to check out the intermediate and advanced tutorials in the fastai documentation to learn how to customize every bit of the library."
      ]
    },
    {
      "cell_type": "markdown",
      "metadata": {
        "id": "lI8c0MKkwRkt"
      },
      "source": [
        "## Questionnaire"
      ]
    },
    {
      "cell_type": "markdown",
      "metadata": {
        "id": "Jj0kM6zewRkt"
      },
      "source": [
        "> tip: Experiments: For the questions here that ask you to explain what some function or class is, you should also complete your own code experiments."
      ]
    },
    {
      "cell_type": "markdown",
      "metadata": {
        "id": "fEpLcH2wwRkt"
      },
      "source": [
        "1. What is `glob`?\n",
        "1. How do you open an image with the Python imaging library?\n",
        "1. What does `L.map` do?\n",
        "1. What does `Self` do?\n",
        "1. What is `L.val2idx`?\n",
        "1. What methods do you need to implement to create your own `Dataset`?\n",
        "1. Why do we call `convert` when we open an image from Imagenette?\n",
        "1. What does `~` do? How is it useful for splitting training and validation sets?\n",
        "1. Does `~` work with the `L` or `Tensor` classes? What about NumPy arrays, Python lists, or pandas DataFrames?\n",
        "1. What is `ProcessPoolExecutor`?\n",
        "1. How does `L.range(self.ds)` work?\n",
        "1. What is `__iter__`?\n",
        "1. What is `first`?\n",
        "1. What is `permute`? Why is it needed?\n",
        "1. What is a recursive function? How does it help us define the `parameters` method?\n",
        "1. Write a recursive function that returns the first 20 items of the Fibonacci sequence.\n",
        "1. What is `super`?\n",
        "1. Why do subclasses of `Module` need to override `forward` instead of defining `__call__`?\n",
        "1. In `ConvLayer`, why does `init` depend on `act`?\n",
        "1. Why does `Sequential` need to call `register_modules`?\n",
        "1. Write a hook that prints the shape of every layer's activations.\n",
        "1. What is \"LogSumExp\"?\n",
        "1. Why is `log_softmax` useful?\n",
        "1. What is `GetAttr`? How is it helpful for callbacks?\n",
        "1. Reimplement one of the callbacks in this chapter without inheriting from `Callback` or `GetAttr`.\n",
        "1. What does `Learner.__call__` do?\n",
        "1. What is `getattr`? (Note the case difference to `GetAttr`!)\n",
        "1. Why is there a `try` block in `fit`?\n",
        "1. Why do we check for `model.training` in `one_batch`?\n",
        "1. What is `store_attr`?\n",
        "1. What is the purpose of `TrackResults.before_epoch`?\n",
        "1. What does `model.cuda` do? How does it work?\n",
        "1. Why do we need to check `model.training` in `LRFinder` and `OneCycle`?\n",
        "1. Use cosine annealing in `OneCycle`."
      ]
    },
    {
      "cell_type": "markdown",
      "metadata": {
        "id": "X4en7MMcwRku"
      },
      "source": [
        "### Further Research"
      ]
    },
    {
      "cell_type": "markdown",
      "metadata": {
        "id": "6w-oWbEXwRku"
      },
      "source": [
        "1. Write `resnet18` from scratch (refer to 'chapter_resnet' as needed), and train it with the `Learner` in this chapter.\n",
        "1. Implement a batchnorm layer from scratch and use it in your `resnet18`.\n",
        "1. Write a Mixup callback for use in this chapter.\n",
        "1. Add momentum to SGD.\n",
        "1. Pick a few features that you're interested in from fastai (or any other library) and implement them in this chapter.\n",
        "1. Pick a research paper that's not yet implemented in fastai or PyTorch and implement it in this chapter.\n",
        "  - Port it over to fastai.\n",
        "  - Submit a pull request to fastai, or create your own extension module and release it.\n",
        "  - Hint: you may find it helpful to use [`nbdev`](https://nbdev.fast.ai/) to create and deploy your package."
      ]
    },
    {
      "cell_type": "code",
      "execution_count": null,
      "metadata": {
        "id": "t2MHV1XSwRku"
      },
      "outputs": [],
      "source": []
    }
  ],
  "metadata": {
    "jupytext": {
      "split_at_heading": true
    },
    "kernelspec": {
      "display_name": "Python 3",
      "language": "python",
      "name": "python3"
    },
    "colab": {
      "provenance": [],
      "include_colab_link": true
    }
  },
  "nbformat": 4,
  "nbformat_minor": 0
}