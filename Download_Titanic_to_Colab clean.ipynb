{
  "nbformat": 4,
  "nbformat_minor": 0,
  "metadata": {
    "colab": {
      "provenance": [],
      "authorship_tag": "ABX9TyNdmLQZ5UvdRo2tssVBf4gd",
      "include_colab_link": true
    },
    "kernelspec": {
      "name": "python3",
      "display_name": "Python 3"
    },
    "language_info": {
      "name": "python"
    }
  },
  "cells": [
    {
      "cell_type": "markdown",
      "metadata": {
        "id": "view-in-github",
        "colab_type": "text"
      },
      "source": [
        "<a href=\"https://colab.research.google.com/github/Teacher-Heiko/fastbook/blob/master/Download_Titanic_to_Colab%20clean.ipynb\" target=\"_parent\"><img src=\"https://colab.research.google.com/assets/colab-badge.svg\" alt=\"Open In Colab\"/></a>"
      ]
    },
    {
      "cell_type": "code",
      "execution_count": 1,
      "metadata": {
        "id": "RQ2032PQ8Kdb"
      },
      "outputs": [],
      "source": [
        "import os\n",
        "from pathlib import Path\n"
      ]
    },
    {
      "cell_type": "code",
      "source": [
        "# iskaggle = os.environ.get('KAGGLE_KERNEL_RUN_TYPE', '')\n",
        "# if iskaggle: path = Path('../input/titanic')\n",
        "# else:\n",
        "#     path = Path('titanic')\n",
        "#     if not path.exists():\n",
        "#         import zipfile,kaggle\n",
        "#         kaggle.api.competition_download_cli(str(path))\n",
        "#         zipfile.ZipFile(f'{path}.zip').extractall(path)"
      ],
      "metadata": {
        "id": "x4MRsTUCCt-I"
      },
      "execution_count": 2,
      "outputs": []
    },
    {
      "cell_type": "code",
      "source": [
        "!rm -r ~/.kaggle\n",
        "!mkdir ~/.kaggle\n",
        "!touch ~/.kaggle/kaggle.json\n",
        "\n",
        "api_token = {\"username\":\"teacherh\",\"key\":\"937525aea6cf995a69c5bb25374d6bb5\"}\n",
        "\n",
        "import json\n",
        "\n",
        "with open('/root/.kaggle/kaggle.json', 'w') as file:\n",
        "    json.dump(api_token, file)\n",
        "\n",
        "!chmod 600 ~/.kaggle/kaggle.json\n"
      ],
      "metadata": {
        "id": "OPRxHkKX9eSa"
      },
      "execution_count": 3,
      "outputs": []
    },
    {
      "cell_type": "code",
      "source": [
        "# Step 1:\n",
        "# Use below code to upload your kaggle.json to colab environment (you can download kaggle.json from your Profile->Account->API Token)\n"
      ],
      "metadata": {
        "id": "xBHm1E8u-9po"
      },
      "execution_count": 4,
      "outputs": []
    },
    {
      "cell_type": "code",
      "source": [
        "!ls ~/.kaggle"
      ],
      "metadata": {
        "colab": {
          "base_uri": "https://localhost:8080/"
        },
        "id": "LRD99DzDEDcJ",
        "outputId": "ac46f0ae-57ab-4999-e90e-f7178c8db34c"
      },
      "execution_count": 5,
      "outputs": [
        {
          "output_type": "stream",
          "name": "stdout",
          "text": [
            "kaggle.json\n"
          ]
        }
      ]
    },
    {
      "cell_type": "code",
      "source": [
        "\n",
        "# from google.colab import files\n",
        "# print(\"Upload kaggle.json here\")\n",
        "# files.upload()\n"
      ],
      "metadata": {
        "id": "fpdLfI93_Sy5"
      },
      "execution_count": 6,
      "outputs": []
    },
    {
      "cell_type": "code",
      "source": [
        "# Step 2:\n",
        "# Below code will remove any existing ~/.kaggle directory and create a new one. It will also move your kaggle.json to ~/.kaggle\n",
        "\n",
        "# !rm -r ~/.kaggle\n",
        "# !mkdir ~/.kaggle\n",
        "# !mv ./kaggle.json ~/.kaggle/\n",
        "# !chmod 600 ~/.kaggle/kaggle.json\n"
      ],
      "metadata": {
        "id": "bApeJr0h_UVR"
      },
      "execution_count": 7,
      "outputs": []
    },
    {
      "cell_type": "code",
      "source": [
        "#  ! kaggle datasets list"
      ],
      "metadata": {
        "id": "TqtddphEBfT4"
      },
      "execution_count": 8,
      "outputs": []
    },
    {
      "cell_type": "code",
      "source": [
        "# Step 3:\n",
        "# Download Dataset.\n",
        "\n",
        "!kaggle competitions download -c titanic\n"
      ],
      "metadata": {
        "colab": {
          "base_uri": "https://localhost:8080/"
        },
        "id": "90VRjgY5_VYX",
        "outputId": "9c5b995a-beac-4227-dbdf-44a9917a9b12"
      },
      "execution_count": 9,
      "outputs": [
        {
          "output_type": "stream",
          "name": "stdout",
          "text": [
            "titanic.zip: Skipping, found more recently modified local copy (use --force to force download)\n"
          ]
        }
      ]
    },
    {
      "cell_type": "code",
      "source": [
        "\n",
        "!ls /content"
      ],
      "metadata": {
        "colab": {
          "base_uri": "https://localhost:8080/"
        },
        "id": "7ZqyaGK2ENd3",
        "outputId": "dd7c7688-eb66-4dc7-c184-8243b602fb8b"
      },
      "execution_count": 10,
      "outputs": [
        {
          "output_type": "stream",
          "name": "stdout",
          "text": [
            "sample_data  titanic  Titanic  titanic.zip\n"
          ]
        }
      ]
    },
    {
      "cell_type": "code",
      "source": [
        "# Step 4:\n",
        "# If you have saved your dataset in Google Drive as a zip file then you can use below code to copy the zip file to your colab directory and extract it. You need to edit below code though (change playground… to your zip file)\n",
        "\n"
      ],
      "metadata": {
        "id": "9tPFsqdz_WfE"
      },
      "execution_count": 11,
      "outputs": []
    },
    {
      "cell_type": "code",
      "source": [
        "path = Path('titanic')\n",
        "if not path.exists():\n",
        "  import zipfile,kaggle\n",
        "  # kaggle.api.competition_download_cli(str(path))\n",
        "  zipfile.ZipFile(f'{path}.zip').extractall(path)"
      ],
      "metadata": {
        "id": "UMdPY1Ne_YHf"
      },
      "execution_count": 12,
      "outputs": []
    },
    {
      "cell_type": "code",
      "source": [
        "!ls /content/titanic/"
      ],
      "metadata": {
        "id": "mcVxBedGIihx",
        "outputId": "8a6dc4f9-0adc-4e74-cffd-b269334137d2",
        "colab": {
          "base_uri": "https://localhost:8080/"
        }
      },
      "execution_count": 13,
      "outputs": [
        {
          "output_type": "stream",
          "name": "stdout",
          "text": [
            "gender_submission.csv  test.csv  train.csv\n"
          ]
        }
      ]
    },
    {
      "cell_type": "code",
      "source": [
        "\n",
        "# !mkdir Titanic\n",
        "# !mv /content/titanic.zip /content/Titanic/\n",
        "# !unzip /content/Titanic/titanic.zip -d /content/Titanic\n",
        "# !rm /content/Titanic/titanic.zip"
      ],
      "metadata": {
        "id": "Ej60jOUpIPWR"
      },
      "execution_count": 14,
      "outputs": []
    },
    {
      "cell_type": "code",
      "source": [
        "# !ls /content/Titanic/"
      ],
      "metadata": {
        "id": "xF5KiRiGFFIZ"
      },
      "execution_count": 15,
      "outputs": []
    }
  ]
}